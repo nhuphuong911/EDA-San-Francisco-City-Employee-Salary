{
  "nbformat": 4,
  "nbformat_minor": 0,
  "metadata": {
    "colab": {
      "name": "EDA-San Francisco city employee salary.ipynb",
      "provenance": [],
      "collapsed_sections": [
        "MoBgPjDiwhdV"
      ]
    },
    "language_info": {
      "codemirror_mode": {
        "name": "ipython",
        "version": 3
      },
      "file_extension": ".py",
      "mimetype": "text/x-python",
      "name": "python",
      "nbconvert_exporter": "python",
      "pygments_lexer": "ipython3",
      "version": "3.6.5"
    },
    "kernelspec": {
      "display_name": "Python 3",
      "language": "python",
      "name": "python3"
    }
  },
  "cells": [
    {
      "cell_type": "markdown",
      "metadata": {
        "id": "ZBc0glanPm0M",
        "colab_type": "text"
      },
      "source": [
        "## San Francisco city employee salary data\n",
        "\n",
        "One way to understand how a city government works is by looking at who it employs and how its employees are compensated. This data contains the names, job title, and compensation for San Francisco city employees on an annual basis from 2011 to 2014.\n",
        "\n",
        "\n",
        "### Step 1 - Exploration Ideas\n",
        "\n",
        "1. How have salaries changed over time between different groups of people?\n",
        "2. How are base pay, overtime pay, and benefits allocated between different groups?\n",
        "3. How is budget allocated based on different groups and responsibilities?\n",
        "\n",
        "### Step 2 - Checking the data\n",
        "\n",
        "**Import tools set**"
      ]
    },
    {
      "cell_type": "code",
      "metadata": {
        "id": "9Cx3LXxfPm0N",
        "colab_type": "code",
        "outputId": "3e12f787-c831-4c28-f363-725fb090eeb4",
        "colab": {
          "base_uri": "https://localhost:8080/",
          "height": 72
        }
      },
      "source": [
        "import numpy as np\n",
        "import pandas as pd\n",
        "import seaborn as sns\n",
        "import matplotlib.pyplot as plt\n",
        "%matplotlib inline\n",
        "\n",
        "sns.set_style(\"whitegrid\")"
      ],
      "execution_count": 1,
      "outputs": [
        {
          "output_type": "stream",
          "text": [
            "/usr/local/lib/python3.6/dist-packages/statsmodels/tools/_testing.py:19: FutureWarning: pandas.util.testing is deprecated. Use the functions in the public API at pandas.testing instead.\n",
            "  import pandas.util.testing as tm\n"
          ],
          "name": "stderr"
        }
      ]
    },
    {
      "cell_type": "markdown",
      "metadata": {
        "id": "mFTQu0j6Pm0Q",
        "colab_type": "text"
      },
      "source": [
        "**Import data**"
      ]
    },
    {
      "cell_type": "code",
      "metadata": {
        "id": "w0YVchrVPm0R",
        "colab_type": "code",
        "colab": {
          "base_uri": "https://localhost:8080/",
          "height": 323
        },
        "outputId": "d244450e-f31a-4343-bf6f-888893df5f4f"
      },
      "source": [
        "sal = pd.read_csv('https://raw.githubusercontent.com/dhminh1024/practice_datasets/master/salaries.csv')\n",
        "sal.head()"
      ],
      "execution_count": 2,
      "outputs": [
        {
          "output_type": "execute_result",
          "data": {
            "text/html": [
              "<div>\n",
              "<style scoped>\n",
              "    .dataframe tbody tr th:only-of-type {\n",
              "        vertical-align: middle;\n",
              "    }\n",
              "\n",
              "    .dataframe tbody tr th {\n",
              "        vertical-align: top;\n",
              "    }\n",
              "\n",
              "    .dataframe thead th {\n",
              "        text-align: right;\n",
              "    }\n",
              "</style>\n",
              "<table border=\"1\" class=\"dataframe\">\n",
              "  <thead>\n",
              "    <tr style=\"text-align: right;\">\n",
              "      <th></th>\n",
              "      <th>Id</th>\n",
              "      <th>EmployeeName</th>\n",
              "      <th>JobTitle</th>\n",
              "      <th>BasePay</th>\n",
              "      <th>OvertimePay</th>\n",
              "      <th>OtherPay</th>\n",
              "      <th>Benefits</th>\n",
              "      <th>TotalPay</th>\n",
              "      <th>TotalPayBenefits</th>\n",
              "      <th>Year</th>\n",
              "      <th>Notes</th>\n",
              "      <th>Agency</th>\n",
              "      <th>Status</th>\n",
              "    </tr>\n",
              "  </thead>\n",
              "  <tbody>\n",
              "    <tr>\n",
              "      <th>0</th>\n",
              "      <td>1</td>\n",
              "      <td>NATHANIEL FORD</td>\n",
              "      <td>GENERAL MANAGER-METROPOLITAN TRANSIT AUTHORITY</td>\n",
              "      <td>167411.18</td>\n",
              "      <td>0.00</td>\n",
              "      <td>400184.25</td>\n",
              "      <td>NaN</td>\n",
              "      <td>567595.43</td>\n",
              "      <td>567595.43</td>\n",
              "      <td>2011</td>\n",
              "      <td>NaN</td>\n",
              "      <td>San Francisco</td>\n",
              "      <td>NaN</td>\n",
              "    </tr>\n",
              "    <tr>\n",
              "      <th>1</th>\n",
              "      <td>2</td>\n",
              "      <td>GARY JIMENEZ</td>\n",
              "      <td>CAPTAIN III (POLICE DEPARTMENT)</td>\n",
              "      <td>155966.02</td>\n",
              "      <td>245131.88</td>\n",
              "      <td>137811.38</td>\n",
              "      <td>NaN</td>\n",
              "      <td>538909.28</td>\n",
              "      <td>538909.28</td>\n",
              "      <td>2011</td>\n",
              "      <td>NaN</td>\n",
              "      <td>San Francisco</td>\n",
              "      <td>NaN</td>\n",
              "    </tr>\n",
              "    <tr>\n",
              "      <th>2</th>\n",
              "      <td>3</td>\n",
              "      <td>ALBERT PARDINI</td>\n",
              "      <td>CAPTAIN III (POLICE DEPARTMENT)</td>\n",
              "      <td>212739.13</td>\n",
              "      <td>106088.18</td>\n",
              "      <td>16452.60</td>\n",
              "      <td>NaN</td>\n",
              "      <td>335279.91</td>\n",
              "      <td>335279.91</td>\n",
              "      <td>2011</td>\n",
              "      <td>NaN</td>\n",
              "      <td>San Francisco</td>\n",
              "      <td>NaN</td>\n",
              "    </tr>\n",
              "    <tr>\n",
              "      <th>3</th>\n",
              "      <td>4</td>\n",
              "      <td>CHRISTOPHER CHONG</td>\n",
              "      <td>WIRE ROPE CABLE MAINTENANCE MECHANIC</td>\n",
              "      <td>77916.00</td>\n",
              "      <td>56120.71</td>\n",
              "      <td>198306.90</td>\n",
              "      <td>NaN</td>\n",
              "      <td>332343.61</td>\n",
              "      <td>332343.61</td>\n",
              "      <td>2011</td>\n",
              "      <td>NaN</td>\n",
              "      <td>San Francisco</td>\n",
              "      <td>NaN</td>\n",
              "    </tr>\n",
              "    <tr>\n",
              "      <th>4</th>\n",
              "      <td>5</td>\n",
              "      <td>PATRICK GARDNER</td>\n",
              "      <td>DEPUTY CHIEF OF DEPARTMENT,(FIRE DEPARTMENT)</td>\n",
              "      <td>134401.60</td>\n",
              "      <td>9737.00</td>\n",
              "      <td>182234.59</td>\n",
              "      <td>NaN</td>\n",
              "      <td>326373.19</td>\n",
              "      <td>326373.19</td>\n",
              "      <td>2011</td>\n",
              "      <td>NaN</td>\n",
              "      <td>San Francisco</td>\n",
              "      <td>NaN</td>\n",
              "    </tr>\n",
              "  </tbody>\n",
              "</table>\n",
              "</div>"
            ],
            "text/plain": [
              "   Id       EmployeeName  ...         Agency  Status\n",
              "0   1     NATHANIEL FORD  ...  San Francisco     NaN\n",
              "1   2       GARY JIMENEZ  ...  San Francisco     NaN\n",
              "2   3     ALBERT PARDINI  ...  San Francisco     NaN\n",
              "3   4  CHRISTOPHER CHONG  ...  San Francisco     NaN\n",
              "4   5    PATRICK GARDNER  ...  San Francisco     NaN\n",
              "\n",
              "[5 rows x 13 columns]"
            ]
          },
          "metadata": {
            "tags": []
          },
          "execution_count": 2
        }
      ]
    },
    {
      "cell_type": "code",
      "metadata": {
        "id": "OjLrS9wlPm0a",
        "colab_type": "code",
        "outputId": "f471a801-e04c-45d0-f62e-ad76f44971ee",
        "colab": {
          "base_uri": "https://localhost:8080/",
          "height": 289
        }
      },
      "source": [
        "# Fix the error\n",
        "sal.sample(5)"
      ],
      "execution_count": 3,
      "outputs": [
        {
          "output_type": "execute_result",
          "data": {
            "text/html": [
              "<div>\n",
              "<style scoped>\n",
              "    .dataframe tbody tr th:only-of-type {\n",
              "        vertical-align: middle;\n",
              "    }\n",
              "\n",
              "    .dataframe tbody tr th {\n",
              "        vertical-align: top;\n",
              "    }\n",
              "\n",
              "    .dataframe thead th {\n",
              "        text-align: right;\n",
              "    }\n",
              "</style>\n",
              "<table border=\"1\" class=\"dataframe\">\n",
              "  <thead>\n",
              "    <tr style=\"text-align: right;\">\n",
              "      <th></th>\n",
              "      <th>Id</th>\n",
              "      <th>EmployeeName</th>\n",
              "      <th>JobTitle</th>\n",
              "      <th>BasePay</th>\n",
              "      <th>OvertimePay</th>\n",
              "      <th>OtherPay</th>\n",
              "      <th>Benefits</th>\n",
              "      <th>TotalPay</th>\n",
              "      <th>TotalPayBenefits</th>\n",
              "      <th>Year</th>\n",
              "      <th>Notes</th>\n",
              "      <th>Agency</th>\n",
              "      <th>Status</th>\n",
              "    </tr>\n",
              "  </thead>\n",
              "  <tbody>\n",
              "    <tr>\n",
              "      <th>139997</th>\n",
              "      <td>139998</td>\n",
              "      <td>Rodrigo C Conel</td>\n",
              "      <td>Special Nurse</td>\n",
              "      <td>23165.44</td>\n",
              "      <td>2361.32</td>\n",
              "      <td>4069.93</td>\n",
              "      <td>5623.45</td>\n",
              "      <td>29596.69</td>\n",
              "      <td>35220.14</td>\n",
              "      <td>2014</td>\n",
              "      <td>NaN</td>\n",
              "      <td>San Francisco</td>\n",
              "      <td>NaN</td>\n",
              "    </tr>\n",
              "    <tr>\n",
              "      <th>98745</th>\n",
              "      <td>98746</td>\n",
              "      <td>Andrew M Toran</td>\n",
              "      <td>Custodian</td>\n",
              "      <td>46420.79</td>\n",
              "      <td>943.32</td>\n",
              "      <td>2307.83</td>\n",
              "      <td>23842.19</td>\n",
              "      <td>49671.94</td>\n",
              "      <td>73514.13</td>\n",
              "      <td>2013</td>\n",
              "      <td>NaN</td>\n",
              "      <td>San Francisco</td>\n",
              "      <td>NaN</td>\n",
              "    </tr>\n",
              "    <tr>\n",
              "      <th>58182</th>\n",
              "      <td>58183</td>\n",
              "      <td>Jose Carlos Santos</td>\n",
              "      <td>Patient Care Assistant</td>\n",
              "      <td>50847.34</td>\n",
              "      <td>5422.11</td>\n",
              "      <td>3631.03</td>\n",
              "      <td>28038.86</td>\n",
              "      <td>59900.48</td>\n",
              "      <td>87939.34</td>\n",
              "      <td>2012</td>\n",
              "      <td>NaN</td>\n",
              "      <td>San Francisco</td>\n",
              "      <td>NaN</td>\n",
              "    </tr>\n",
              "    <tr>\n",
              "      <th>40763</th>\n",
              "      <td>40764</td>\n",
              "      <td>Barbara Walter</td>\n",
              "      <td>Nurse Manager</td>\n",
              "      <td>117190.20</td>\n",
              "      <td>0.00</td>\n",
              "      <td>13275.93</td>\n",
              "      <td>43294.31</td>\n",
              "      <td>130466.13</td>\n",
              "      <td>173760.44</td>\n",
              "      <td>2012</td>\n",
              "      <td>NaN</td>\n",
              "      <td>San Francisco</td>\n",
              "      <td>NaN</td>\n",
              "    </tr>\n",
              "    <tr>\n",
              "      <th>16975</th>\n",
              "      <td>16976</td>\n",
              "      <td>ANGEL LALIC</td>\n",
              "      <td>AIRPORT POLICE SERVICES AIDE</td>\n",
              "      <td>54109.86</td>\n",
              "      <td>13961.01</td>\n",
              "      <td>3411.23</td>\n",
              "      <td>NaN</td>\n",
              "      <td>71482.10</td>\n",
              "      <td>71482.10</td>\n",
              "      <td>2011</td>\n",
              "      <td>NaN</td>\n",
              "      <td>San Francisco</td>\n",
              "      <td>NaN</td>\n",
              "    </tr>\n",
              "  </tbody>\n",
              "</table>\n",
              "</div>"
            ],
            "text/plain": [
              "            Id        EmployeeName  ...         Agency  Status\n",
              "139997  139998     Rodrigo C Conel  ...  San Francisco     NaN\n",
              "98745    98746      Andrew M Toran  ...  San Francisco     NaN\n",
              "58182    58183  Jose Carlos Santos  ...  San Francisco     NaN\n",
              "40763    40764      Barbara Walter  ...  San Francisco     NaN\n",
              "16975    16976         ANGEL LALIC  ...  San Francisco     NaN\n",
              "\n",
              "[5 rows x 13 columns]"
            ]
          },
          "metadata": {
            "tags": []
          },
          "execution_count": 3
        }
      ]
    },
    {
      "cell_type": "code",
      "metadata": {
        "id": "AQ25O59kPm0d",
        "colab_type": "code",
        "outputId": "758153dc-bd89-4d94-a2bd-743b27ffbd61",
        "colab": {
          "base_uri": "https://localhost:8080/",
          "height": 364
        }
      },
      "source": [
        "sal.info()"
      ],
      "execution_count": 4,
      "outputs": [
        {
          "output_type": "stream",
          "text": [
            "<class 'pandas.core.frame.DataFrame'>\n",
            "RangeIndex: 148654 entries, 0 to 148653\n",
            "Data columns (total 13 columns):\n",
            " #   Column            Non-Null Count   Dtype  \n",
            "---  ------            --------------   -----  \n",
            " 0   Id                148654 non-null  int64  \n",
            " 1   EmployeeName      148654 non-null  object \n",
            " 2   JobTitle          148654 non-null  object \n",
            " 3   BasePay           148045 non-null  float64\n",
            " 4   OvertimePay       148650 non-null  float64\n",
            " 5   OtherPay          148650 non-null  float64\n",
            " 6   Benefits          112491 non-null  float64\n",
            " 7   TotalPay          148654 non-null  float64\n",
            " 8   TotalPayBenefits  148654 non-null  float64\n",
            " 9   Year              148654 non-null  int64  \n",
            " 10  Notes             0 non-null       float64\n",
            " 11  Agency            148654 non-null  object \n",
            " 12  Status            0 non-null       float64\n",
            "dtypes: float64(8), int64(2), object(3)\n",
            "memory usage: 14.7+ MB\n"
          ],
          "name": "stdout"
        }
      ]
    },
    {
      "cell_type": "code",
      "metadata": {
        "id": "oL4V7oDyPm0h",
        "colab_type": "code",
        "outputId": "f955643c-019c-42b2-9cd8-8dedcb7fb38b",
        "colab": {
          "base_uri": "https://localhost:8080/",
          "height": 294
        }
      },
      "source": [
        "sal.describe()"
      ],
      "execution_count": 5,
      "outputs": [
        {
          "output_type": "execute_result",
          "data": {
            "text/html": [
              "<div>\n",
              "<style scoped>\n",
              "    .dataframe tbody tr th:only-of-type {\n",
              "        vertical-align: middle;\n",
              "    }\n",
              "\n",
              "    .dataframe tbody tr th {\n",
              "        vertical-align: top;\n",
              "    }\n",
              "\n",
              "    .dataframe thead th {\n",
              "        text-align: right;\n",
              "    }\n",
              "</style>\n",
              "<table border=\"1\" class=\"dataframe\">\n",
              "  <thead>\n",
              "    <tr style=\"text-align: right;\">\n",
              "      <th></th>\n",
              "      <th>Id</th>\n",
              "      <th>BasePay</th>\n",
              "      <th>OvertimePay</th>\n",
              "      <th>OtherPay</th>\n",
              "      <th>Benefits</th>\n",
              "      <th>TotalPay</th>\n",
              "      <th>TotalPayBenefits</th>\n",
              "      <th>Year</th>\n",
              "      <th>Notes</th>\n",
              "      <th>Status</th>\n",
              "    </tr>\n",
              "  </thead>\n",
              "  <tbody>\n",
              "    <tr>\n",
              "      <th>count</th>\n",
              "      <td>148654.000000</td>\n",
              "      <td>148045.000000</td>\n",
              "      <td>148650.000000</td>\n",
              "      <td>148650.000000</td>\n",
              "      <td>112491.000000</td>\n",
              "      <td>148654.000000</td>\n",
              "      <td>148654.000000</td>\n",
              "      <td>148654.000000</td>\n",
              "      <td>0.0</td>\n",
              "      <td>0.0</td>\n",
              "    </tr>\n",
              "    <tr>\n",
              "      <th>mean</th>\n",
              "      <td>74327.500000</td>\n",
              "      <td>66325.448841</td>\n",
              "      <td>5066.059886</td>\n",
              "      <td>3648.767297</td>\n",
              "      <td>25007.893151</td>\n",
              "      <td>74768.321972</td>\n",
              "      <td>93692.554811</td>\n",
              "      <td>2012.522643</td>\n",
              "      <td>NaN</td>\n",
              "      <td>NaN</td>\n",
              "    </tr>\n",
              "    <tr>\n",
              "      <th>std</th>\n",
              "      <td>42912.857795</td>\n",
              "      <td>42764.635495</td>\n",
              "      <td>11454.380559</td>\n",
              "      <td>8056.601866</td>\n",
              "      <td>15402.215858</td>\n",
              "      <td>50517.005274</td>\n",
              "      <td>62793.533483</td>\n",
              "      <td>1.117538</td>\n",
              "      <td>NaN</td>\n",
              "      <td>NaN</td>\n",
              "    </tr>\n",
              "    <tr>\n",
              "      <th>min</th>\n",
              "      <td>1.000000</td>\n",
              "      <td>-166.010000</td>\n",
              "      <td>-0.010000</td>\n",
              "      <td>-7058.590000</td>\n",
              "      <td>-33.890000</td>\n",
              "      <td>-618.130000</td>\n",
              "      <td>-618.130000</td>\n",
              "      <td>2011.000000</td>\n",
              "      <td>NaN</td>\n",
              "      <td>NaN</td>\n",
              "    </tr>\n",
              "    <tr>\n",
              "      <th>25%</th>\n",
              "      <td>37164.250000</td>\n",
              "      <td>33588.200000</td>\n",
              "      <td>0.000000</td>\n",
              "      <td>0.000000</td>\n",
              "      <td>11535.395000</td>\n",
              "      <td>36168.995000</td>\n",
              "      <td>44065.650000</td>\n",
              "      <td>2012.000000</td>\n",
              "      <td>NaN</td>\n",
              "      <td>NaN</td>\n",
              "    </tr>\n",
              "    <tr>\n",
              "      <th>50%</th>\n",
              "      <td>74327.500000</td>\n",
              "      <td>65007.450000</td>\n",
              "      <td>0.000000</td>\n",
              "      <td>811.270000</td>\n",
              "      <td>28628.620000</td>\n",
              "      <td>71426.610000</td>\n",
              "      <td>92404.090000</td>\n",
              "      <td>2013.000000</td>\n",
              "      <td>NaN</td>\n",
              "      <td>NaN</td>\n",
              "    </tr>\n",
              "    <tr>\n",
              "      <th>75%</th>\n",
              "      <td>111490.750000</td>\n",
              "      <td>94691.050000</td>\n",
              "      <td>4658.175000</td>\n",
              "      <td>4236.065000</td>\n",
              "      <td>35566.855000</td>\n",
              "      <td>105839.135000</td>\n",
              "      <td>132876.450000</td>\n",
              "      <td>2014.000000</td>\n",
              "      <td>NaN</td>\n",
              "      <td>NaN</td>\n",
              "    </tr>\n",
              "    <tr>\n",
              "      <th>max</th>\n",
              "      <td>148654.000000</td>\n",
              "      <td>319275.010000</td>\n",
              "      <td>245131.880000</td>\n",
              "      <td>400184.250000</td>\n",
              "      <td>96570.660000</td>\n",
              "      <td>567595.430000</td>\n",
              "      <td>567595.430000</td>\n",
              "      <td>2014.000000</td>\n",
              "      <td>NaN</td>\n",
              "      <td>NaN</td>\n",
              "    </tr>\n",
              "  </tbody>\n",
              "</table>\n",
              "</div>"
            ],
            "text/plain": [
              "                  Id        BasePay  ...  Notes  Status\n",
              "count  148654.000000  148045.000000  ...    0.0     0.0\n",
              "mean    74327.500000   66325.448841  ...    NaN     NaN\n",
              "std     42912.857795   42764.635495  ...    NaN     NaN\n",
              "min         1.000000    -166.010000  ...    NaN     NaN\n",
              "25%     37164.250000   33588.200000  ...    NaN     NaN\n",
              "50%     74327.500000   65007.450000  ...    NaN     NaN\n",
              "75%    111490.750000   94691.050000  ...    NaN     NaN\n",
              "max    148654.000000  319275.010000  ...    NaN     NaN\n",
              "\n",
              "[8 rows x 10 columns]"
            ]
          },
          "metadata": {
            "tags": []
          },
          "execution_count": 5
        }
      ]
    },
    {
      "cell_type": "markdown",
      "metadata": {
        "id": "wY6yv3UsPm0k",
        "colab_type": "text"
      },
      "source": [
        "### Step 3 - Cleaning the data"
      ]
    },
    {
      "cell_type": "code",
      "metadata": {
        "id": "GPIDpsygPm0l",
        "colab_type": "code",
        "outputId": "bd1dd56b-bf74-4f0e-f3cb-f1cc7e2c13af",
        "colab": {
          "base_uri": "https://localhost:8080/",
          "height": 35
        }
      },
      "source": [
        "# Id must be unique\n",
        "# So the number of unique values must be equal the number of rows\n",
        "sal['Id'].nunique() == sal['Id'].count()"
      ],
      "execution_count": 6,
      "outputs": [
        {
          "output_type": "execute_result",
          "data": {
            "text/plain": [
              "True"
            ]
          },
          "metadata": {
            "tags": []
          },
          "execution_count": 6
        }
      ]
    },
    {
      "cell_type": "markdown",
      "metadata": {
        "id": "1cmMLYR5fsGl",
        "colab_type": "text"
      },
      "source": [
        "**Change the type to category**"
      ]
    },
    {
      "cell_type": "code",
      "metadata": {
        "id": "LtaeNb4yPm0p",
        "colab_type": "code",
        "colab": {}
      },
      "source": [
        "sal['Id'] = sal['Id'].astype('category')\n",
        "\n",
        "# Change Year to be a categorical variable too\n",
        "sal['Year'] = sal['Year'].astype('category')"
      ],
      "execution_count": 0,
      "outputs": []
    },
    {
      "cell_type": "markdown",
      "metadata": {
        "id": "VSVoX1K3Pm0s",
        "colab_type": "text"
      },
      "source": [
        "**Drop unnecessary columns**"
      ]
    },
    {
      "cell_type": "code",
      "metadata": {
        "id": "RHV8TMa1Pm0t",
        "colab_type": "code",
        "colab": {}
      },
      "source": [
        "# Look at the info() again, which columns you can drop immediately?\n",
        "sal.drop(columns=['Notes', 'Status'], inplace=True)"
      ],
      "execution_count": 0,
      "outputs": []
    },
    {
      "cell_type": "code",
      "metadata": {
        "id": "xCvrYvQMPm0w",
        "colab_type": "code",
        "colab": {}
      },
      "source": [
        "# Are there any other columns that don't bring us much information?\n",
        "sal.drop(columns=['Agency'], inplace=True)"
      ],
      "execution_count": 0,
      "outputs": []
    },
    {
      "cell_type": "code",
      "metadata": {
        "id": "-Aykt_CoPm02",
        "colab_type": "code",
        "outputId": "ae615ea4-775d-4608-fa23-532aa068a5cf",
        "colab": {
          "base_uri": "https://localhost:8080/",
          "height": 312
        }
      },
      "source": [
        "# Check again with info()\n",
        "sal.info()"
      ],
      "execution_count": 10,
      "outputs": [
        {
          "output_type": "stream",
          "text": [
            "<class 'pandas.core.frame.DataFrame'>\n",
            "RangeIndex: 148654 entries, 0 to 148653\n",
            "Data columns (total 10 columns):\n",
            " #   Column            Non-Null Count   Dtype   \n",
            "---  ------            --------------   -----   \n",
            " 0   Id                148654 non-null  category\n",
            " 1   EmployeeName      148654 non-null  object  \n",
            " 2   JobTitle          148654 non-null  object  \n",
            " 3   BasePay           148045 non-null  float64 \n",
            " 4   OvertimePay       148650 non-null  float64 \n",
            " 5   OtherPay          148650 non-null  float64 \n",
            " 6   Benefits          112491 non-null  float64 \n",
            " 7   TotalPay          148654 non-null  float64 \n",
            " 8   TotalPayBenefits  148654 non-null  float64 \n",
            " 9   Year              148654 non-null  category\n",
            "dtypes: category(2), float64(6), object(2)\n",
            "memory usage: 15.9+ MB\n"
          ],
          "name": "stdout"
        }
      ]
    },
    {
      "cell_type": "markdown",
      "metadata": {
        "id": "rcNsGWarPm06",
        "colab_type": "text"
      },
      "source": [
        "**Check for NaN values**"
      ]
    },
    {
      "cell_type": "code",
      "metadata": {
        "id": "WcCZtvQCR_W5",
        "colab_type": "code",
        "outputId": "a4ac398b-9c43-4d4a-ff51-f1d129b34195",
        "colab": {
          "base_uri": "https://localhost:8080/",
          "height": 208
        }
      },
      "source": [
        "sal.isna().sum()"
      ],
      "execution_count": 11,
      "outputs": [
        {
          "output_type": "execute_result",
          "data": {
            "text/plain": [
              "Id                      0\n",
              "EmployeeName            0\n",
              "JobTitle                0\n",
              "BasePay               609\n",
              "OvertimePay             4\n",
              "OtherPay                4\n",
              "Benefits            36163\n",
              "TotalPay                0\n",
              "TotalPayBenefits        0\n",
              "Year                    0\n",
              "dtype: int64"
            ]
          },
          "metadata": {
            "tags": []
          },
          "execution_count": 11
        }
      ]
    },
    {
      "cell_type": "markdown",
      "metadata": {
        "id": "RdhPk_x1Pm0-",
        "colab_type": "text"
      },
      "source": [
        "**Examine few examples of NaN values**"
      ]
    },
    {
      "cell_type": "code",
      "metadata": {
        "id": "PpkOeeuISFUg",
        "colab_type": "code",
        "outputId": "0b31a9a8-c55b-446f-9d39-6a8641a27cc2",
        "colab": {
          "base_uri": "https://localhost:8080/",
          "height": 171
        }
      },
      "source": [
        "# List all NaN values of OtherPay\n",
        "sal[sal['OtherPay'].isnull()]"
      ],
      "execution_count": 12,
      "outputs": [
        {
          "output_type": "execute_result",
          "data": {
            "text/html": [
              "<div>\n",
              "<style scoped>\n",
              "    .dataframe tbody tr th:only-of-type {\n",
              "        vertical-align: middle;\n",
              "    }\n",
              "\n",
              "    .dataframe tbody tr th {\n",
              "        vertical-align: top;\n",
              "    }\n",
              "\n",
              "    .dataframe thead th {\n",
              "        text-align: right;\n",
              "    }\n",
              "</style>\n",
              "<table border=\"1\" class=\"dataframe\">\n",
              "  <thead>\n",
              "    <tr style=\"text-align: right;\">\n",
              "      <th></th>\n",
              "      <th>Id</th>\n",
              "      <th>EmployeeName</th>\n",
              "      <th>JobTitle</th>\n",
              "      <th>BasePay</th>\n",
              "      <th>OvertimePay</th>\n",
              "      <th>OtherPay</th>\n",
              "      <th>Benefits</th>\n",
              "      <th>TotalPay</th>\n",
              "      <th>TotalPayBenefits</th>\n",
              "      <th>Year</th>\n",
              "    </tr>\n",
              "  </thead>\n",
              "  <tbody>\n",
              "    <tr>\n",
              "      <th>148646</th>\n",
              "      <td>148647</td>\n",
              "      <td>Not provided</td>\n",
              "      <td>Not provided</td>\n",
              "      <td>NaN</td>\n",
              "      <td>NaN</td>\n",
              "      <td>NaN</td>\n",
              "      <td>NaN</td>\n",
              "      <td>0.0</td>\n",
              "      <td>0.0</td>\n",
              "      <td>2014</td>\n",
              "    </tr>\n",
              "    <tr>\n",
              "      <th>148650</th>\n",
              "      <td>148651</td>\n",
              "      <td>Not provided</td>\n",
              "      <td>Not provided</td>\n",
              "      <td>NaN</td>\n",
              "      <td>NaN</td>\n",
              "      <td>NaN</td>\n",
              "      <td>NaN</td>\n",
              "      <td>0.0</td>\n",
              "      <td>0.0</td>\n",
              "      <td>2014</td>\n",
              "    </tr>\n",
              "    <tr>\n",
              "      <th>148651</th>\n",
              "      <td>148652</td>\n",
              "      <td>Not provided</td>\n",
              "      <td>Not provided</td>\n",
              "      <td>NaN</td>\n",
              "      <td>NaN</td>\n",
              "      <td>NaN</td>\n",
              "      <td>NaN</td>\n",
              "      <td>0.0</td>\n",
              "      <td>0.0</td>\n",
              "      <td>2014</td>\n",
              "    </tr>\n",
              "    <tr>\n",
              "      <th>148652</th>\n",
              "      <td>148653</td>\n",
              "      <td>Not provided</td>\n",
              "      <td>Not provided</td>\n",
              "      <td>NaN</td>\n",
              "      <td>NaN</td>\n",
              "      <td>NaN</td>\n",
              "      <td>NaN</td>\n",
              "      <td>0.0</td>\n",
              "      <td>0.0</td>\n",
              "      <td>2014</td>\n",
              "    </tr>\n",
              "  </tbody>\n",
              "</table>\n",
              "</div>"
            ],
            "text/plain": [
              "            Id  EmployeeName      JobTitle  ...  TotalPay  TotalPayBenefits  Year\n",
              "148646  148647  Not provided  Not provided  ...       0.0               0.0  2014\n",
              "148650  148651  Not provided  Not provided  ...       0.0               0.0  2014\n",
              "148651  148652  Not provided  Not provided  ...       0.0               0.0  2014\n",
              "148652  148653  Not provided  Not provided  ...       0.0               0.0  2014\n",
              "\n",
              "[4 rows x 10 columns]"
            ]
          },
          "metadata": {
            "tags": []
          },
          "execution_count": 12
        }
      ]
    },
    {
      "cell_type": "markdown",
      "metadata": {
        "id": "pNv3autOjiFj",
        "colab_type": "text"
      },
      "source": [
        "**Drop missing values of OtherPay and OvertimePay**"
      ]
    },
    {
      "cell_type": "code",
      "metadata": {
        "id": "ZDgbdnlhPm1C",
        "colab_type": "code",
        "colab": {}
      },
      "source": [
        "# Option 1\n",
        "#sal.drop(labels=[148646, 148650, 148651, 148652], axis=0, inplace=True)\n",
        "\n",
        "# Something cooler\n",
        "# Solution: Select data that OtherPay is not null and assign it to the dataframe 'sal'\n",
        "sal = sal[sal['OtherPay'].notnull()]"
      ],
      "execution_count": 0,
      "outputs": []
    },
    {
      "cell_type": "markdown",
      "metadata": {
        "id": "E8C8-rJ6kb5A",
        "colab_type": "text"
      },
      "source": [
        "**Analize missing values of BasePay and Benefits**"
      ]
    },
    {
      "cell_type": "code",
      "metadata": {
        "id": "auarSm-bPm1G",
        "colab_type": "code",
        "outputId": "7d4a8384-4e86-4068-e305-5fa6855bdd89",
        "colab": {
          "base_uri": "https://localhost:8080/",
          "height": 202
        }
      },
      "source": [
        "# Select 5 sample of data that BasePay is null\n",
        "sal[sal['BasePay'].isnull()].sample(5)"
      ],
      "execution_count": 14,
      "outputs": [
        {
          "output_type": "execute_result",
          "data": {
            "text/html": [
              "<div>\n",
              "<style scoped>\n",
              "    .dataframe tbody tr th:only-of-type {\n",
              "        vertical-align: middle;\n",
              "    }\n",
              "\n",
              "    .dataframe tbody tr th {\n",
              "        vertical-align: top;\n",
              "    }\n",
              "\n",
              "    .dataframe thead th {\n",
              "        text-align: right;\n",
              "    }\n",
              "</style>\n",
              "<table border=\"1\" class=\"dataframe\">\n",
              "  <thead>\n",
              "    <tr style=\"text-align: right;\">\n",
              "      <th></th>\n",
              "      <th>Id</th>\n",
              "      <th>EmployeeName</th>\n",
              "      <th>JobTitle</th>\n",
              "      <th>BasePay</th>\n",
              "      <th>OvertimePay</th>\n",
              "      <th>OtherPay</th>\n",
              "      <th>Benefits</th>\n",
              "      <th>TotalPay</th>\n",
              "      <th>TotalPayBenefits</th>\n",
              "      <th>Year</th>\n",
              "    </tr>\n",
              "  </thead>\n",
              "  <tbody>\n",
              "    <tr>\n",
              "      <th>103561</th>\n",
              "      <td>103562</td>\n",
              "      <td>Richard G Johnson</td>\n",
              "      <td>Piledriver Engine Operator</td>\n",
              "      <td>NaN</td>\n",
              "      <td>0.0</td>\n",
              "      <td>22340.80</td>\n",
              "      <td>908.42</td>\n",
              "      <td>22340.80</td>\n",
              "      <td>23249.22</td>\n",
              "      <td>2013</td>\n",
              "    </tr>\n",
              "    <tr>\n",
              "      <th>108240</th>\n",
              "      <td>108241</td>\n",
              "      <td>John  Candito</td>\n",
              "      <td>Arborist Technician</td>\n",
              "      <td>NaN</td>\n",
              "      <td>0.0</td>\n",
              "      <td>3555.51</td>\n",
              "      <td>643.19</td>\n",
              "      <td>3555.51</td>\n",
              "      <td>4198.70</td>\n",
              "      <td>2013</td>\n",
              "    </tr>\n",
              "    <tr>\n",
              "      <th>105192</th>\n",
              "      <td>105193</td>\n",
              "      <td>Frank S Black</td>\n",
              "      <td>Transit Operator</td>\n",
              "      <td>NaN</td>\n",
              "      <td>0.0</td>\n",
              "      <td>5288.21</td>\n",
              "      <td>7959.18</td>\n",
              "      <td>5288.21</td>\n",
              "      <td>13247.39</td>\n",
              "      <td>2013</td>\n",
              "    </tr>\n",
              "    <tr>\n",
              "      <th>106926</th>\n",
              "      <td>106927</td>\n",
              "      <td>Rachel  Brodwin</td>\n",
              "      <td>Commissioner 16.700c, No Pay</td>\n",
              "      <td>NaN</td>\n",
              "      <td>0.0</td>\n",
              "      <td>0.00</td>\n",
              "      <td>7959.18</td>\n",
              "      <td>0.00</td>\n",
              "      <td>7959.18</td>\n",
              "      <td>2013</td>\n",
              "    </tr>\n",
              "    <tr>\n",
              "      <th>106800</th>\n",
              "      <td>106801</td>\n",
              "      <td>Roger  Navarro</td>\n",
              "      <td>Parking Control Officer</td>\n",
              "      <td>NaN</td>\n",
              "      <td>0.0</td>\n",
              "      <td>0.00</td>\n",
              "      <td>7959.18</td>\n",
              "      <td>0.00</td>\n",
              "      <td>7959.18</td>\n",
              "      <td>2013</td>\n",
              "    </tr>\n",
              "  </tbody>\n",
              "</table>\n",
              "</div>"
            ],
            "text/plain": [
              "            Id       EmployeeName  ... TotalPayBenefits  Year\n",
              "103561  103562  Richard G Johnson  ...         23249.22  2013\n",
              "108240  108241      John  Candito  ...          4198.70  2013\n",
              "105192  105193      Frank S Black  ...         13247.39  2013\n",
              "106926  106927    Rachel  Brodwin  ...          7959.18  2013\n",
              "106800  106801     Roger  Navarro  ...          7959.18  2013\n",
              "\n",
              "[5 rows x 10 columns]"
            ]
          },
          "metadata": {
            "tags": []
          },
          "execution_count": 14
        }
      ]
    },
    {
      "cell_type": "markdown",
      "metadata": {
        "id": "LI8UuvPePm1J",
        "colab_type": "text"
      },
      "source": [
        "**For BasePay and Benefits, it is clear that NaN values are zeroes (from TotalPay and TotalPayBenefits).**\n",
        "\n",
        "**So, simply fill NaN values with 0**"
      ]
    },
    {
      "cell_type": "code",
      "metadata": {
        "id": "weJT0fK1Pm1K",
        "colab_type": "code",
        "colab": {}
      },
      "source": [
        "sal['Benefits'].fillna(value=0, inplace=True)"
      ],
      "execution_count": 0,
      "outputs": []
    },
    {
      "cell_type": "code",
      "metadata": {
        "id": "CtY8mxaJPm1N",
        "colab_type": "code",
        "colab": {}
      },
      "source": [
        "sal['BasePay'].fillna(value=0,inplace=True)"
      ],
      "execution_count": 0,
      "outputs": []
    },
    {
      "cell_type": "code",
      "metadata": {
        "id": "6r011Nm-Pm1Q",
        "colab_type": "code",
        "outputId": "cd733606-3400-4c25-c8ae-4db6e53f707d",
        "colab": {
          "base_uri": "https://localhost:8080/",
          "height": 208
        }
      },
      "source": [
        "# Let check for NaN values again\n",
        "sal.isna().sum()"
      ],
      "execution_count": 17,
      "outputs": [
        {
          "output_type": "execute_result",
          "data": {
            "text/plain": [
              "Id                  0\n",
              "EmployeeName        0\n",
              "JobTitle            0\n",
              "BasePay             0\n",
              "OvertimePay         0\n",
              "OtherPay            0\n",
              "Benefits            0\n",
              "TotalPay            0\n",
              "TotalPayBenefits    0\n",
              "Year                0\n",
              "dtype: int64"
            ]
          },
          "metadata": {
            "tags": []
          },
          "execution_count": 17
        }
      ]
    },
    {
      "cell_type": "markdown",
      "metadata": {
        "id": "4OJQFuzhPm1T",
        "colab_type": "text"
      },
      "source": [
        "**Min values of some payments are negative. Let's check it out**"
      ]
    },
    {
      "cell_type": "code",
      "metadata": {
        "id": "6j8cnp4ETQE4",
        "colab_type": "code",
        "outputId": "d452bc2b-b9ba-4dec-da43-4bbfebbf62ca",
        "colab": {
          "base_uri": "https://localhost:8080/",
          "height": 171
        }
      },
      "source": [
        "sal[(sal['TotalPay'] < 0) | (sal['TotalPayBenefits'] < 0)]"
      ],
      "execution_count": 18,
      "outputs": [
        {
          "output_type": "execute_result",
          "data": {
            "text/html": [
              "<div>\n",
              "<style scoped>\n",
              "    .dataframe tbody tr th:only-of-type {\n",
              "        vertical-align: middle;\n",
              "    }\n",
              "\n",
              "    .dataframe tbody tr th {\n",
              "        vertical-align: top;\n",
              "    }\n",
              "\n",
              "    .dataframe thead th {\n",
              "        text-align: right;\n",
              "    }\n",
              "</style>\n",
              "<table border=\"1\" class=\"dataframe\">\n",
              "  <thead>\n",
              "    <tr style=\"text-align: right;\">\n",
              "      <th></th>\n",
              "      <th>Id</th>\n",
              "      <th>EmployeeName</th>\n",
              "      <th>JobTitle</th>\n",
              "      <th>BasePay</th>\n",
              "      <th>OvertimePay</th>\n",
              "      <th>OtherPay</th>\n",
              "      <th>Benefits</th>\n",
              "      <th>TotalPay</th>\n",
              "      <th>TotalPayBenefits</th>\n",
              "      <th>Year</th>\n",
              "    </tr>\n",
              "  </thead>\n",
              "  <tbody>\n",
              "    <tr>\n",
              "      <th>110528</th>\n",
              "      <td>110529</td>\n",
              "      <td>Timothy E Gibson</td>\n",
              "      <td>Police Officer 3</td>\n",
              "      <td>0.0</td>\n",
              "      <td>0.0</td>\n",
              "      <td>0.00</td>\n",
              "      <td>-2.73</td>\n",
              "      <td>0.00</td>\n",
              "      <td>-2.73</td>\n",
              "      <td>2013</td>\n",
              "    </tr>\n",
              "    <tr>\n",
              "      <th>110529</th>\n",
              "      <td>110530</td>\n",
              "      <td>Mark E Laherty</td>\n",
              "      <td>Police Officer 3</td>\n",
              "      <td>0.0</td>\n",
              "      <td>0.0</td>\n",
              "      <td>0.00</td>\n",
              "      <td>-8.20</td>\n",
              "      <td>0.00</td>\n",
              "      <td>-8.20</td>\n",
              "      <td>2013</td>\n",
              "    </tr>\n",
              "    <tr>\n",
              "      <th>110530</th>\n",
              "      <td>110531</td>\n",
              "      <td>David P Kucia</td>\n",
              "      <td>Police Officer 3</td>\n",
              "      <td>0.0</td>\n",
              "      <td>0.0</td>\n",
              "      <td>0.00</td>\n",
              "      <td>-33.89</td>\n",
              "      <td>0.00</td>\n",
              "      <td>-33.89</td>\n",
              "      <td>2013</td>\n",
              "    </tr>\n",
              "    <tr>\n",
              "      <th>148653</th>\n",
              "      <td>148654</td>\n",
              "      <td>Joe Lopez</td>\n",
              "      <td>Counselor, Log Cabin Ranch</td>\n",
              "      <td>0.0</td>\n",
              "      <td>0.0</td>\n",
              "      <td>-618.13</td>\n",
              "      <td>0.00</td>\n",
              "      <td>-618.13</td>\n",
              "      <td>-618.13</td>\n",
              "      <td>2014</td>\n",
              "    </tr>\n",
              "  </tbody>\n",
              "</table>\n",
              "</div>"
            ],
            "text/plain": [
              "            Id      EmployeeName  ... TotalPayBenefits  Year\n",
              "110528  110529  Timothy E Gibson  ...            -2.73  2013\n",
              "110529  110530    Mark E Laherty  ...            -8.20  2013\n",
              "110530  110531     David P Kucia  ...           -33.89  2013\n",
              "148653  148654         Joe Lopez  ...          -618.13  2014\n",
              "\n",
              "[4 rows x 10 columns]"
            ]
          },
          "metadata": {
            "tags": []
          },
          "execution_count": 18
        }
      ]
    },
    {
      "cell_type": "code",
      "metadata": {
        "id": "DS8XEj1UPm1U",
        "colab_type": "code",
        "outputId": "d988d6d2-3938-4f7c-ae65-03f2c5d85b44",
        "colab": {}
      },
      "source": [
        "# Select data that has negative TotalPay or TotalPayBenefits\n",
        "# Fill the blanks\n",
        "sal[(sal['___'] ___) | (sal['___'] ___)]"
      ],
      "execution_count": 0,
      "outputs": [
        {
          "output_type": "execute_result",
          "data": {
            "text/html": [
              "<div>\n",
              "<style scoped>\n",
              "    .dataframe tbody tr th:only-of-type {\n",
              "        vertical-align: middle;\n",
              "    }\n",
              "\n",
              "    .dataframe tbody tr th {\n",
              "        vertical-align: top;\n",
              "    }\n",
              "\n",
              "    .dataframe thead th {\n",
              "        text-align: right;\n",
              "    }\n",
              "</style>\n",
              "<table border=\"1\" class=\"dataframe\">\n",
              "  <thead>\n",
              "    <tr style=\"text-align: right;\">\n",
              "      <th></th>\n",
              "      <th>Id</th>\n",
              "      <th>EmployeeName</th>\n",
              "      <th>JobTitle</th>\n",
              "      <th>BasePay</th>\n",
              "      <th>OvertimePay</th>\n",
              "      <th>OtherPay</th>\n",
              "      <th>Benefits</th>\n",
              "      <th>TotalPay</th>\n",
              "      <th>TotalPayBenefits</th>\n",
              "      <th>Year</th>\n",
              "    </tr>\n",
              "  </thead>\n",
              "  <tbody>\n",
              "    <tr>\n",
              "      <th>110528</th>\n",
              "      <td>110529</td>\n",
              "      <td>Timothy E Gibson</td>\n",
              "      <td>Police Officer 3</td>\n",
              "      <td>0.0</td>\n",
              "      <td>0.0</td>\n",
              "      <td>0.00</td>\n",
              "      <td>-2.73</td>\n",
              "      <td>0.00</td>\n",
              "      <td>-2.73</td>\n",
              "      <td>2013</td>\n",
              "    </tr>\n",
              "    <tr>\n",
              "      <th>110529</th>\n",
              "      <td>110530</td>\n",
              "      <td>Mark E Laherty</td>\n",
              "      <td>Police Officer 3</td>\n",
              "      <td>0.0</td>\n",
              "      <td>0.0</td>\n",
              "      <td>0.00</td>\n",
              "      <td>-8.20</td>\n",
              "      <td>0.00</td>\n",
              "      <td>-8.20</td>\n",
              "      <td>2013</td>\n",
              "    </tr>\n",
              "    <tr>\n",
              "      <th>110530</th>\n",
              "      <td>110531</td>\n",
              "      <td>David P Kucia</td>\n",
              "      <td>Police Officer 3</td>\n",
              "      <td>0.0</td>\n",
              "      <td>0.0</td>\n",
              "      <td>0.00</td>\n",
              "      <td>-33.89</td>\n",
              "      <td>0.00</td>\n",
              "      <td>-33.89</td>\n",
              "      <td>2013</td>\n",
              "    </tr>\n",
              "    <tr>\n",
              "      <th>148653</th>\n",
              "      <td>148654</td>\n",
              "      <td>Joe Lopez</td>\n",
              "      <td>Counselor, Log Cabin Ranch</td>\n",
              "      <td>0.0</td>\n",
              "      <td>0.0</td>\n",
              "      <td>-618.13</td>\n",
              "      <td>0.00</td>\n",
              "      <td>-618.13</td>\n",
              "      <td>-618.13</td>\n",
              "      <td>2014</td>\n",
              "    </tr>\n",
              "  </tbody>\n",
              "</table>\n",
              "</div>"
            ],
            "text/plain": [
              "            Id      EmployeeName                    JobTitle  BasePay  \\\n",
              "110528  110529  Timothy E Gibson            Police Officer 3      0.0   \n",
              "110529  110530    Mark E Laherty            Police Officer 3      0.0   \n",
              "110530  110531     David P Kucia            Police Officer 3      0.0   \n",
              "148653  148654         Joe Lopez  Counselor, Log Cabin Ranch      0.0   \n",
              "\n",
              "        OvertimePay  OtherPay  Benefits  TotalPay  TotalPayBenefits  Year  \n",
              "110528          0.0      0.00     -2.73      0.00             -2.73  2013  \n",
              "110529          0.0      0.00     -8.20      0.00             -8.20  2013  \n",
              "110530          0.0      0.00    -33.89      0.00            -33.89  2013  \n",
              "148653          0.0   -618.13      0.00   -618.13           -618.13  2014  "
            ]
          },
          "metadata": {
            "tags": []
          },
          "execution_count": 240
        }
      ]
    },
    {
      "cell_type": "markdown",
      "metadata": {
        "id": "9w7-ugL0mQPC",
        "colab_type": "text"
      },
      "source": [
        "**There are only 4 of them, we can safely drop these data**"
      ]
    },
    {
      "cell_type": "code",
      "metadata": {
        "id": "2SfJWB9qPm1X",
        "colab_type": "code",
        "colab": {}
      },
      "source": [
        "sal = sal[(sal['TotalPay'] >= 0) & (sal['TotalPayBenefits'] >= 0)]"
      ],
      "execution_count": 0,
      "outputs": []
    },
    {
      "cell_type": "markdown",
      "metadata": {
        "id": "mPny_KZsPm1Z",
        "colab_type": "text"
      },
      "source": [
        "**Identify any errors or miscoding of variables**"
      ]
    },
    {
      "cell_type": "code",
      "metadata": {
        "id": "9K85MLVzPm1Z",
        "colab_type": "code",
        "outputId": "7417b660-5590-4125-f872-3b04422c82a5",
        "colab": {
          "base_uri": "https://localhost:8080/",
          "height": 52
        }
      },
      "source": [
        "# Check the unique values of Year\n",
        "sal['Year'].unique()"
      ],
      "execution_count": 20,
      "outputs": [
        {
          "output_type": "execute_result",
          "data": {
            "text/plain": [
              "[2011, 2012, 2013, 2014]\n",
              "Categories (4, int64): [2011, 2012, 2013, 2014]"
            ]
          },
          "metadata": {
            "tags": []
          },
          "execution_count": 20
        }
      ]
    },
    {
      "cell_type": "markdown",
      "metadata": {
        "id": "c56z5tkKPm1c",
        "colab_type": "text"
      },
      "source": [
        "Check duplication"
      ]
    },
    {
      "cell_type": "code",
      "metadata": {
        "id": "_JW2GOxIPm1c",
        "colab_type": "code",
        "colab": {}
      },
      "source": [
        "# Apply strip() on EmployeeName and Jobtitle \n",
        "# to remove all the leading and trailing spaces\n",
        "sal['EmployeeName'] = sal['EmployeeName'].str.strip()\n",
        "sal['JobTitle'] = sal['JobTitle'].str.strip()"
      ],
      "execution_count": 0,
      "outputs": []
    },
    {
      "cell_type": "code",
      "metadata": {
        "id": "ZCl0vCkbPm1e",
        "colab_type": "code",
        "outputId": "679d6faa-b3f0-41f6-ffd0-8e44a236b0f3",
        "colab": {
          "base_uri": "https://localhost:8080/",
          "height": 35
        }
      },
      "source": [
        "# Check the number of unique value of EmployeeName\n",
        "sal['EmployeeName'].nunique()"
      ],
      "execution_count": 22,
      "outputs": [
        {
          "output_type": "execute_result",
          "data": {
            "text/plain": [
              "110806"
            ]
          },
          "metadata": {
            "tags": []
          },
          "execution_count": 22
        }
      ]
    },
    {
      "cell_type": "code",
      "metadata": {
        "id": "tE8QpVJ4URmE",
        "colab_type": "code",
        "outputId": "586aa0b2-f38a-4eaa-d542-76d030ec3e92",
        "colab": {
          "base_uri": "https://localhost:8080/",
          "height": 35
        }
      },
      "source": [
        "# Check the number of unique value of EmployeeName in lower case\n",
        "sal['EmployeeName'].str.lower().nunique()"
      ],
      "execution_count": 23,
      "outputs": [
        {
          "output_type": "execute_result",
          "data": {
            "text/plain": [
              "80455"
            ]
          },
          "metadata": {
            "tags": []
          },
          "execution_count": 23
        }
      ]
    },
    {
      "cell_type": "code",
      "metadata": {
        "id": "xkHpzbNpPm1l",
        "colab_type": "code",
        "outputId": "0b7d6ede-81c7-4007-a824-96796d065d96",
        "colab": {
          "base_uri": "https://localhost:8080/",
          "height": 52
        }
      },
      "source": [
        "# Do the same with JobTitle\n",
        "print(sal['JobTitle'].nunique())\n",
        "print(sal['JobTitle'].str.lower().nunique())"
      ],
      "execution_count": 24,
      "outputs": [
        {
          "output_type": "stream",
          "text": [
            "2158\n",
            "1636\n"
          ],
          "name": "stdout"
        }
      ]
    },
    {
      "cell_type": "code",
      "metadata": {
        "id": "-JLeksePPm1r",
        "colab_type": "code",
        "outputId": "61f25b09-a2ac-4cb2-db9f-6be0e93ff6f3",
        "colab": {
          "base_uri": "https://localhost:8080/",
          "height": 723
        }
      },
      "source": [
        "# Select the most common name\n",
        "names = sal['EmployeeName'].str.lower().value_counts()\n",
        "samples = names[names > 1].head(1).index\n",
        "sal[sal['EmployeeName'].str.lower().isin(samples)]"
      ],
      "execution_count": 25,
      "outputs": [
        {
          "output_type": "execute_result",
          "data": {
            "text/html": [
              "<div>\n",
              "<style scoped>\n",
              "    .dataframe tbody tr th:only-of-type {\n",
              "        vertical-align: middle;\n",
              "    }\n",
              "\n",
              "    .dataframe tbody tr th {\n",
              "        vertical-align: top;\n",
              "    }\n",
              "\n",
              "    .dataframe thead th {\n",
              "        text-align: right;\n",
              "    }\n",
              "</style>\n",
              "<table border=\"1\" class=\"dataframe\">\n",
              "  <thead>\n",
              "    <tr style=\"text-align: right;\">\n",
              "      <th></th>\n",
              "      <th>Id</th>\n",
              "      <th>EmployeeName</th>\n",
              "      <th>JobTitle</th>\n",
              "      <th>BasePay</th>\n",
              "      <th>OvertimePay</th>\n",
              "      <th>OtherPay</th>\n",
              "      <th>Benefits</th>\n",
              "      <th>TotalPay</th>\n",
              "      <th>TotalPayBenefits</th>\n",
              "      <th>Year</th>\n",
              "    </tr>\n",
              "  </thead>\n",
              "  <tbody>\n",
              "    <tr>\n",
              "      <th>3824</th>\n",
              "      <td>3825</td>\n",
              "      <td>KEVIN LEE</td>\n",
              "      <td>POLICE OFFICER III</td>\n",
              "      <td>112401.08</td>\n",
              "      <td>19374.72</td>\n",
              "      <td>1062.10</td>\n",
              "      <td>0.00</td>\n",
              "      <td>132837.90</td>\n",
              "      <td>132837.90</td>\n",
              "      <td>2011</td>\n",
              "    </tr>\n",
              "    <tr>\n",
              "      <th>4036</th>\n",
              "      <td>4037</td>\n",
              "      <td>KEVIN LEE</td>\n",
              "      <td>POLICE OFFICER II</td>\n",
              "      <td>108000.94</td>\n",
              "      <td>17468.40</td>\n",
              "      <td>6025.54</td>\n",
              "      <td>0.00</td>\n",
              "      <td>131494.88</td>\n",
              "      <td>131494.88</td>\n",
              "      <td>2011</td>\n",
              "    </tr>\n",
              "    <tr>\n",
              "      <th>5279</th>\n",
              "      <td>5280</td>\n",
              "      <td>KEVIN LEE</td>\n",
              "      <td>ELECTRICAL TRANSIT SYSTEM MECHANIC</td>\n",
              "      <td>77580.68</td>\n",
              "      <td>36378.97</td>\n",
              "      <td>8858.96</td>\n",
              "      <td>0.00</td>\n",
              "      <td>122818.61</td>\n",
              "      <td>122818.61</td>\n",
              "      <td>2011</td>\n",
              "    </tr>\n",
              "    <tr>\n",
              "      <th>13169</th>\n",
              "      <td>13170</td>\n",
              "      <td>KEVIN LEE</td>\n",
              "      <td>DEPUTY COURT CLERK III</td>\n",
              "      <td>83693.01</td>\n",
              "      <td>0.00</td>\n",
              "      <td>609.60</td>\n",
              "      <td>0.00</td>\n",
              "      <td>84302.61</td>\n",
              "      <td>84302.61</td>\n",
              "      <td>2011</td>\n",
              "    </tr>\n",
              "    <tr>\n",
              "      <th>13419</th>\n",
              "      <td>13420</td>\n",
              "      <td>KEVIN LEE</td>\n",
              "      <td>DEPUTY COURT CLERK III</td>\n",
              "      <td>83560.00</td>\n",
              "      <td>0.00</td>\n",
              "      <td>0.00</td>\n",
              "      <td>0.00</td>\n",
              "      <td>83560.00</td>\n",
              "      <td>83560.00</td>\n",
              "      <td>2011</td>\n",
              "    </tr>\n",
              "    <tr>\n",
              "      <th>15312</th>\n",
              "      <td>15313</td>\n",
              "      <td>KEVIN LEE</td>\n",
              "      <td>PERSONNEL ANALYST</td>\n",
              "      <td>76786.31</td>\n",
              "      <td>0.00</td>\n",
              "      <td>0.00</td>\n",
              "      <td>0.00</td>\n",
              "      <td>76786.31</td>\n",
              "      <td>76786.31</td>\n",
              "      <td>2011</td>\n",
              "    </tr>\n",
              "    <tr>\n",
              "      <th>17163</th>\n",
              "      <td>17164</td>\n",
              "      <td>KEVIN LEE</td>\n",
              "      <td>SENIOR PARKING CONTROL OFFICER</td>\n",
              "      <td>65324.60</td>\n",
              "      <td>4944.02</td>\n",
              "      <td>686.93</td>\n",
              "      <td>0.00</td>\n",
              "      <td>70955.55</td>\n",
              "      <td>70955.55</td>\n",
              "      <td>2011</td>\n",
              "    </tr>\n",
              "    <tr>\n",
              "      <th>17646</th>\n",
              "      <td>17647</td>\n",
              "      <td>KEVIN LEE</td>\n",
              "      <td>IS ADMINISTRATOR II</td>\n",
              "      <td>66349.74</td>\n",
              "      <td>718.23</td>\n",
              "      <td>2325.47</td>\n",
              "      <td>0.00</td>\n",
              "      <td>69393.44</td>\n",
              "      <td>69393.44</td>\n",
              "      <td>2011</td>\n",
              "    </tr>\n",
              "    <tr>\n",
              "      <th>27053</th>\n",
              "      <td>27054</td>\n",
              "      <td>KEVIN LEE</td>\n",
              "      <td>TRANSIT OPERATOR</td>\n",
              "      <td>31501.33</td>\n",
              "      <td>5003.46</td>\n",
              "      <td>770.75</td>\n",
              "      <td>0.00</td>\n",
              "      <td>37275.54</td>\n",
              "      <td>37275.54</td>\n",
              "      <td>2011</td>\n",
              "    </tr>\n",
              "    <tr>\n",
              "      <th>39715</th>\n",
              "      <td>39716</td>\n",
              "      <td>Kevin Lee</td>\n",
              "      <td>Police Officer 3</td>\n",
              "      <td>115866.90</td>\n",
              "      <td>23523.30</td>\n",
              "      <td>9313.54</td>\n",
              "      <td>34906.20</td>\n",
              "      <td>148703.74</td>\n",
              "      <td>183609.94</td>\n",
              "      <td>2012</td>\n",
              "    </tr>\n",
              "    <tr>\n",
              "      <th>40570</th>\n",
              "      <td>40571</td>\n",
              "      <td>Kevin Lee</td>\n",
              "      <td>Police Officer 3</td>\n",
              "      <td>117171.41</td>\n",
              "      <td>19606.88</td>\n",
              "      <td>4244.90</td>\n",
              "      <td>34610.10</td>\n",
              "      <td>141023.19</td>\n",
              "      <td>175633.29</td>\n",
              "      <td>2012</td>\n",
              "    </tr>\n",
              "    <tr>\n",
              "      <th>42510</th>\n",
              "      <td>42511</td>\n",
              "      <td>Kevin Lee</td>\n",
              "      <td>Electrical Transit System Mech</td>\n",
              "      <td>79220.54</td>\n",
              "      <td>40247.39</td>\n",
              "      <td>3353.49</td>\n",
              "      <td>38781.04</td>\n",
              "      <td>122821.42</td>\n",
              "      <td>161602.46</td>\n",
              "      <td>2012</td>\n",
              "    </tr>\n",
              "    <tr>\n",
              "      <th>49270</th>\n",
              "      <td>49271</td>\n",
              "      <td>Kevin Lee</td>\n",
              "      <td>Deputy Court Clerk III</td>\n",
              "      <td>84512.32</td>\n",
              "      <td>0.00</td>\n",
              "      <td>1469.99</td>\n",
              "      <td>36080.30</td>\n",
              "      <td>85982.31</td>\n",
              "      <td>122062.61</td>\n",
              "      <td>2012</td>\n",
              "    </tr>\n",
              "    <tr>\n",
              "      <th>49439</th>\n",
              "      <td>49440</td>\n",
              "      <td>Kevin Lee</td>\n",
              "      <td>Deputy Court Clerk III</td>\n",
              "      <td>84512.34</td>\n",
              "      <td>0.00</td>\n",
              "      <td>975.44</td>\n",
              "      <td>35902.02</td>\n",
              "      <td>85487.78</td>\n",
              "      <td>121389.80</td>\n",
              "      <td>2012</td>\n",
              "    </tr>\n",
              "    <tr>\n",
              "      <th>50123</th>\n",
              "      <td>50124</td>\n",
              "      <td>Kevin Lee</td>\n",
              "      <td>Personnel Analyst</td>\n",
              "      <td>83382.00</td>\n",
              "      <td>0.00</td>\n",
              "      <td>0.00</td>\n",
              "      <td>35210.59</td>\n",
              "      <td>83382.00</td>\n",
              "      <td>118592.59</td>\n",
              "      <td>2012</td>\n",
              "    </tr>\n",
              "    <tr>\n",
              "      <th>52233</th>\n",
              "      <td>52234</td>\n",
              "      <td>Kevin Lee</td>\n",
              "      <td>Senior Parking Control Officer</td>\n",
              "      <td>66774.03</td>\n",
              "      <td>9599.08</td>\n",
              "      <td>1092.62</td>\n",
              "      <td>31902.38</td>\n",
              "      <td>77465.73</td>\n",
              "      <td>109368.11</td>\n",
              "      <td>2012</td>\n",
              "    </tr>\n",
              "    <tr>\n",
              "      <th>53931</th>\n",
              "      <td>53932</td>\n",
              "      <td>Kevin Lee</td>\n",
              "      <td>Transit Operator</td>\n",
              "      <td>57397.32</td>\n",
              "      <td>9989.83</td>\n",
              "      <td>1800.48</td>\n",
              "      <td>34577.54</td>\n",
              "      <td>69187.63</td>\n",
              "      <td>103765.17</td>\n",
              "      <td>2012</td>\n",
              "    </tr>\n",
              "    <tr>\n",
              "      <th>55119</th>\n",
              "      <td>55120</td>\n",
              "      <td>Kevin Lee</td>\n",
              "      <td>IS Administrator 2</td>\n",
              "      <td>68940.44</td>\n",
              "      <td>0.00</td>\n",
              "      <td>0.00</td>\n",
              "      <td>30650.48</td>\n",
              "      <td>68940.44</td>\n",
              "      <td>99590.92</td>\n",
              "      <td>2012</td>\n",
              "    </tr>\n",
              "    <tr>\n",
              "      <th>112385</th>\n",
              "      <td>112386</td>\n",
              "      <td>Kevin Lee</td>\n",
              "      <td>Sergeant 3</td>\n",
              "      <td>137982.14</td>\n",
              "      <td>18537.19</td>\n",
              "      <td>16039.62</td>\n",
              "      <td>43039.12</td>\n",
              "      <td>172558.95</td>\n",
              "      <td>215598.07</td>\n",
              "      <td>2014</td>\n",
              "    </tr>\n",
              "    <tr>\n",
              "      <th>123141</th>\n",
              "      <td>123142</td>\n",
              "      <td>Kevin Lee</td>\n",
              "      <td>IT Operations Support Admin IV</td>\n",
              "      <td>91606.03</td>\n",
              "      <td>0.00</td>\n",
              "      <td>1013.00</td>\n",
              "      <td>34109.61</td>\n",
              "      <td>92619.03</td>\n",
              "      <td>126728.64</td>\n",
              "      <td>2014</td>\n",
              "    </tr>\n",
              "    <tr>\n",
              "      <th>124165</th>\n",
              "      <td>124166</td>\n",
              "      <td>Kevin Lee</td>\n",
              "      <td>Personnel Analyst</td>\n",
              "      <td>88353.01</td>\n",
              "      <td>0.00</td>\n",
              "      <td>0.00</td>\n",
              "      <td>33172.33</td>\n",
              "      <td>88353.01</td>\n",
              "      <td>121525.34</td>\n",
              "      <td>2014</td>\n",
              "    </tr>\n",
              "    <tr>\n",
              "      <th>124658</th>\n",
              "      <td>124659</td>\n",
              "      <td>Kevin Lee</td>\n",
              "      <td>Transit Operator</td>\n",
              "      <td>67230.30</td>\n",
              "      <td>10961.25</td>\n",
              "      <td>4050.85</td>\n",
              "      <td>36777.83</td>\n",
              "      <td>82242.40</td>\n",
              "      <td>119020.23</td>\n",
              "      <td>2014</td>\n",
              "    </tr>\n",
              "  </tbody>\n",
              "</table>\n",
              "</div>"
            ],
            "text/plain": [
              "            Id EmployeeName  ... TotalPayBenefits  Year\n",
              "3824      3825    KEVIN LEE  ...        132837.90  2011\n",
              "4036      4037    KEVIN LEE  ...        131494.88  2011\n",
              "5279      5280    KEVIN LEE  ...        122818.61  2011\n",
              "13169    13170    KEVIN LEE  ...         84302.61  2011\n",
              "13419    13420    KEVIN LEE  ...         83560.00  2011\n",
              "15312    15313    KEVIN LEE  ...         76786.31  2011\n",
              "17163    17164    KEVIN LEE  ...         70955.55  2011\n",
              "17646    17647    KEVIN LEE  ...         69393.44  2011\n",
              "27053    27054    KEVIN LEE  ...         37275.54  2011\n",
              "39715    39716    Kevin Lee  ...        183609.94  2012\n",
              "40570    40571    Kevin Lee  ...        175633.29  2012\n",
              "42510    42511    Kevin Lee  ...        161602.46  2012\n",
              "49270    49271    Kevin Lee  ...        122062.61  2012\n",
              "49439    49440    Kevin Lee  ...        121389.80  2012\n",
              "50123    50124    Kevin Lee  ...        118592.59  2012\n",
              "52233    52234    Kevin Lee  ...        109368.11  2012\n",
              "53931    53932    Kevin Lee  ...        103765.17  2012\n",
              "55119    55120    Kevin Lee  ...         99590.92  2012\n",
              "112385  112386    Kevin Lee  ...        215598.07  2014\n",
              "123141  123142    Kevin Lee  ...        126728.64  2014\n",
              "124165  124166    Kevin Lee  ...        121525.34  2014\n",
              "124658  124659    Kevin Lee  ...        119020.23  2014\n",
              "\n",
              "[22 rows x 10 columns]"
            ]
          },
          "metadata": {
            "tags": []
          },
          "execution_count": 25
        }
      ]
    },
    {
      "cell_type": "markdown",
      "metadata": {
        "id": "zB_Fu1c9Pm1u",
        "colab_type": "text"
      },
      "source": [
        "*The names are duplicated because the data describes one person in different years or just because there are people who have same name. It's ok so we only need to uppercase all of the name to eliminate case sensitive.*\n",
        "\n",
        "*But there are definitely some duplication of Job Title, example `Police Officer 3` and `POLICE OFFICER III`*"
      ]
    },
    {
      "cell_type": "code",
      "metadata": {
        "id": "Ufw8QW-6Pm1u",
        "colab_type": "code",
        "colab": {}
      },
      "source": [
        "# Replace Name and Job Title with its uppercase\n",
        "sal['EmployeeName'] = sal['EmployeeName'].str.upper()\n",
        "sal['JobTitle'] = sal['JobTitle'].str.upper()"
      ],
      "execution_count": 0,
      "outputs": []
    },
    {
      "cell_type": "code",
      "metadata": {
        "id": "heSYToXzPm1x",
        "colab_type": "code",
        "outputId": "ef5855e7-2cbd-4939-8861-b6e0c588ea5c",
        "colab": {
          "base_uri": "https://localhost:8080/",
          "height": 225
        }
      },
      "source": [
        "# Write a regular expression to select JobTitle that ends with a digit\n",
        "sal['JobTitle'][sal['JobTitle'].str.contains('\\d$', regex=True)].value_counts()"
      ],
      "execution_count": 30,
      "outputs": [
        {
          "output_type": "execute_result",
          "data": {
            "text/plain": [
              "POLICE OFFICER 3            2418\n",
              "POLICE OFFICER 2            1141\n",
              "SERGEANT 3                  1047\n",
              "LIBRARIAN 1                  530\n",
              "HEALTH WORKER 3              438\n",
              "                            ... \n",
              "CASHIER 3                      1\n",
              "SPECIAL ASSISTANT 13           1\n",
              "SPECIAL ASSISTANT 18           1\n",
              "SPECIAL ASSISTANT 8            1\n",
              "ASST DIR CLINICAL SVCS 2       1\n",
              "Name: JobTitle, Length: 166, dtype: int64"
            ]
          },
          "metadata": {
            "tags": []
          },
          "execution_count": 30
        }
      ]
    },
    {
      "cell_type": "code",
      "metadata": {
        "id": "xaYYbPRPPm10",
        "colab_type": "code",
        "outputId": "23f43f5d-ceaa-4500-e269-c9e5ecd013a7",
        "colab": {
          "base_uri": "https://localhost:8080/",
          "height": 139
        }
      },
      "source": [
        "# Write a regex that count all type of POLICE OFFICER\n",
        "sal['JobTitle'][sal['JobTitle'].str.contains('^POLICE OFFICER', regex=True)].value_counts()"
      ],
      "execution_count": 31,
      "outputs": [
        {
          "output_type": "execute_result",
          "data": {
            "text/plain": [
              "POLICE OFFICER 3      2418\n",
              "POLICE OFFICER        1476\n",
              "POLICE OFFICER 2      1141\n",
              "POLICE OFFICER III     779\n",
              "POLICE OFFICER I       467\n",
              "POLICE OFFICER II      361\n",
              "Name: JobTitle, dtype: int64"
            ]
          },
          "metadata": {
            "tags": []
          },
          "execution_count": 31
        }
      ]
    },
    {
      "cell_type": "code",
      "metadata": {
        "id": "V1eYSjo0Pm12",
        "colab_type": "code",
        "outputId": "0f44208e-eecd-44d3-c065-cb7156673532",
        "colab": {
          "base_uri": "https://localhost:8080/",
          "height": 35
        }
      },
      "source": [
        "# This is a simple function to transform roman number \n",
        "def transform_roman(s):\n",
        "    d = {'I':1, 'II':2, 'III':3, 'IV':4, 'V':5, 'VI':6, 'VII':7, 'VIII':8, 'IX':9, 'X':10, \n",
        "        'XI':11, 'XII':12, 'XIII':13, 'XIV':14, 'XV':15, 'XVI':16, 'XVII':17, 'XVIII':18, 'XIX':19, 'XX':20}\n",
        "    \n",
        "    s_split = s.split()\n",
        "    if s_split[-1] in d.keys():\n",
        "        s_split[-1] = str(d[s_split[-1]])\n",
        "    return ' '.join(s_split)\n",
        "\n",
        "# Test it out\n",
        "transform_roman('POLICE OFFICER III')"
      ],
      "execution_count": 32,
      "outputs": [
        {
          "output_type": "execute_result",
          "data": {
            "text/plain": [
              "'POLICE OFFICER 3'"
            ]
          },
          "metadata": {
            "tags": []
          },
          "execution_count": 32
        }
      ]
    },
    {
      "cell_type": "code",
      "metadata": {
        "id": "2PX5dFaxPm14",
        "colab_type": "code",
        "colab": {}
      },
      "source": [
        "# Apply the function above to the column JobTitle\n",
        "sal['JobTitle'] = sal['JobTitle'].apply(transform_roman)"
      ],
      "execution_count": 0,
      "outputs": []
    },
    {
      "cell_type": "code",
      "metadata": {
        "id": "9qAK8mR9-dWV",
        "colab_type": "code",
        "outputId": "c37da92e-cb21-457a-b4d4-847d97b41346",
        "colab": {
          "base_uri": "https://localhost:8080/",
          "height": 121
        }
      },
      "source": [
        "sal['JobTitle'].sample(5)"
      ],
      "execution_count": 34,
      "outputs": [
        {
          "output_type": "execute_result",
          "data": {
            "text/plain": [
              "15811             GENERAL LABORER\n",
              "120003           TRANSIT OPERATOR\n",
              "130079    REAL PROPERTY APPRAISER\n",
              "79602            REGISTERED NURSE\n",
              "79915           PROJECT MANAGER 2\n",
              "Name: JobTitle, dtype: object"
            ]
          },
          "metadata": {
            "tags": []
          },
          "execution_count": 34
        }
      ]
    },
    {
      "cell_type": "markdown",
      "metadata": {
        "id": "Ikd1t-v3Pm17",
        "colab_type": "text"
      },
      "source": [
        "### Step 4 - EDA"
      ]
    },
    {
      "cell_type": "markdown",
      "metadata": {
        "id": "-dEBLw1uPm1-",
        "colab_type": "text"
      },
      "source": [
        "**Plot categorical data**"
      ]
    },
    {
      "cell_type": "code",
      "metadata": {
        "id": "_N-UF331Pm1-",
        "colab_type": "code",
        "outputId": "e6894c63-babc-46c2-ddf2-e646837ae067",
        "colab": {
          "base_uri": "https://localhost:8080/",
          "height": 301
        }
      },
      "source": [
        "sns.countplot(x='Year', data=sal)"
      ],
      "execution_count": 35,
      "outputs": [
        {
          "output_type": "execute_result",
          "data": {
            "text/plain": [
              "<matplotlib.axes._subplots.AxesSubplot at 0x7f26760a4048>"
            ]
          },
          "metadata": {
            "tags": []
          },
          "execution_count": 35
        },
        {
          "output_type": "display_data",
          "data": {
            "image/png": "[encoded data removed]",
            "text/plain": [
              "<Figure size 432x288 with 1 Axes>"
            ]
          },
          "metadata": {
            "tags": [],
            "needs_background": "light"
          }
        }
      ]
    },
    {
      "cell_type": "markdown",
      "metadata": {
        "id": "pGvAB5cNPm2D",
        "colab_type": "text"
      },
      "source": [
        "**Top 5 common job titles**"
      ]
    },
    {
      "cell_type": "code",
      "metadata": {
        "id": "p9pDnkUNDswV",
        "colab_type": "code",
        "outputId": "3b70bb39-5bcc-4bd9-e737-cd82e50b3637",
        "colab": {
          "base_uri": "https://localhost:8080/",
          "height": 283
        }
      },
      "source": [
        "sal['JobTitle'].value_counts().head().plot(kind='barh')"
      ],
      "execution_count": 37,
      "outputs": [
        {
          "output_type": "execute_result",
          "data": {
            "text/plain": [
              "<matplotlib.axes._subplots.AxesSubplot at 0x7f267624e0f0>"
            ]
          },
          "metadata": {
            "tags": []
          },
          "execution_count": 37
        },
        {
          "output_type": "display_data",
          "data": {
            "image/png": "[encoded data removed]",
            "text/plain": [
              "<Figure size 432x288 with 1 Axes>"
            ]
          },
          "metadata": {
            "tags": [],
            "needs_background": "light"
          }
        }
      ]
    },
    {
      "cell_type": "markdown",
      "metadata": {
        "id": "JZvwnGZ-Pm2F",
        "colab_type": "text"
      },
      "source": [
        "**Distribution of numerical data**"
      ]
    },
    {
      "cell_type": "code",
      "metadata": {
        "id": "UnTkDE4NPm2F",
        "colab_type": "code",
        "outputId": "88a2ec5f-bedc-413c-d896-1cb4422a9bb0",
        "colab": {
          "base_uri": "https://localhost:8080/",
          "height": 307
        }
      },
      "source": [
        "sns.distplot(sal['TotalPayBenefits'])"
      ],
      "execution_count": 38,
      "outputs": [
        {
          "output_type": "execute_result",
          "data": {
            "text/plain": [
              "<matplotlib.axes._subplots.AxesSubplot at 0x7f2676276dd8>"
            ]
          },
          "metadata": {
            "tags": []
          },
          "execution_count": 38
        },
        {
          "output_type": "display_data",
          "data": {
            "image/png": "[encoded data removed]",
            "text/plain": [
              "<Figure size 432x288 with 1 Axes>"
            ]
          },
          "metadata": {
            "tags": [],
            "needs_background": "light"
          }
        }
      ]
    },
    {
      "cell_type": "code",
      "metadata": {
        "id": "pEpszC3XEQqO",
        "colab_type": "code",
        "outputId": "97a4fce8-7b72-422f-9687-54549b852ed8",
        "colab": {
          "base_uri": "https://localhost:8080/",
          "height": 269
        }
      },
      "source": [
        "plt.hist(sal['TotalPayBenefits'], bins=50)\n",
        "plt.show()"
      ],
      "execution_count": 40,
      "outputs": [
        {
          "output_type": "display_data",
          "data": {
            "image/png": "[encoded data removed]",
            "text/plain": [
              "<Figure size 432x288 with 1 Axes>"
            ]
          },
          "metadata": {
            "tags": [],
            "needs_background": "light"
          }
        }
      ]
    },
    {
      "cell_type": "code",
      "metadata": {
        "id": "EBxW0raZEZM4",
        "colab_type": "code",
        "outputId": "998945b0-16d4-43bf-d416-2fe9a1e0af2e",
        "colab": {
          "base_uri": "https://localhost:8080/",
          "height": 385
        }
      },
      "source": [
        "f, axes = plt.subplots(2, 2, figsize=(15, 6))\n",
        "\n",
        "sns.kdeplot(sal['BasePay'], ax = axes[0][0])\n",
        "sns.kdeplot(sal['OvertimePay'], ax = axes[0][1])\n",
        "sns.kdeplot(sal['OtherPay'], ax = axes[1][0])\n",
        "sns.kdeplot(sal['Benefits'], ax = axes[1][1])\n",
        "plt.show()"
      ],
      "execution_count": 42,
      "outputs": [
        {
          "output_type": "display_data",
          "data": {
            "image/png": "[encoded data removed]",
            "text/plain": [
              "<Figure size 1080x432 with 4 Axes>"
            ]
          },
          "metadata": {
            "tags": [],
            "needs_background": "light"
          }
        }
      ]
    },
    {
      "cell_type": "code",
      "metadata": {
        "id": "xblsqOLMHATz",
        "colab_type": "code",
        "outputId": "16764df2-f885-498a-84c4-9341732a36ff",
        "colab": {
          "base_uri": "https://localhost:8080/",
          "height": 399
        }
      },
      "source": [
        "f, axes = plt.subplots(1, 2, figsize=(12, 6))\n",
        "\n",
        "sns.distplot(sal['TotalPay'], ax = axes[0])\n",
        "sns.distplot(sal['TotalPayBenefits'], ax = axes[1])\n",
        "\n",
        "plt.show()"
      ],
      "execution_count": 43,
      "outputs": [
        {
          "output_type": "display_data",
          "data": {
            "image/png": "[encoded data removed]",
            "text/plain": [
              "<Figure size 864x432 with 2 Axes>"
            ]
          },
          "metadata": {
            "tags": [],
            "needs_background": "light"
          }
        }
      ]
    },
    {
      "cell_type": "markdown",
      "metadata": {
        "id": "AYQl8xQstFcl",
        "colab_type": "text"
      },
      "source": [
        "**Analize richest people**"
      ]
    },
    {
      "cell_type": "code",
      "metadata": {
        "id": "wnr3XVJYPm2U",
        "colab_type": "code",
        "outputId": "9e5c362b-d02e-4204-e02f-e8142654c960",
        "colab": {
          "base_uri": "https://localhost:8080/",
          "height": 502
        }
      },
      "source": [
        "# Select people that have TotalPayBenefit greater than $300k\n",
        "sal[sal['TotalPayBenefits'] > 300000]"
      ],
      "execution_count": 44,
      "outputs": [
        {
          "output_type": "execute_result",
          "data": {
            "text/html": [
              "<div>\n",
              "<style scoped>\n",
              "    .dataframe tbody tr th:only-of-type {\n",
              "        vertical-align: middle;\n",
              "    }\n",
              "\n",
              "    .dataframe tbody tr th {\n",
              "        vertical-align: top;\n",
              "    }\n",
              "\n",
              "    .dataframe thead th {\n",
              "        text-align: right;\n",
              "    }\n",
              "</style>\n",
              "<table border=\"1\" class=\"dataframe\">\n",
              "  <thead>\n",
              "    <tr style=\"text-align: right;\">\n",
              "      <th></th>\n",
              "      <th>Id</th>\n",
              "      <th>EmployeeName</th>\n",
              "      <th>JobTitle</th>\n",
              "      <th>BasePay</th>\n",
              "      <th>OvertimePay</th>\n",
              "      <th>OtherPay</th>\n",
              "      <th>Benefits</th>\n",
              "      <th>TotalPay</th>\n",
              "      <th>TotalPayBenefits</th>\n",
              "      <th>Year</th>\n",
              "    </tr>\n",
              "  </thead>\n",
              "  <tbody>\n",
              "    <tr>\n",
              "      <th>0</th>\n",
              "      <td>1</td>\n",
              "      <td>NATHANIEL FORD</td>\n",
              "      <td>GENERAL MANAGER-METROPOLITAN TRANSIT AUTHORITY</td>\n",
              "      <td>167411.18</td>\n",
              "      <td>0.00</td>\n",
              "      <td>400184.25</td>\n",
              "      <td>0.00</td>\n",
              "      <td>567595.43</td>\n",
              "      <td>567595.43</td>\n",
              "      <td>2011</td>\n",
              "    </tr>\n",
              "    <tr>\n",
              "      <th>1</th>\n",
              "      <td>2</td>\n",
              "      <td>GARY JIMENEZ</td>\n",
              "      <td>CAPTAIN III (POLICE DEPARTMENT)</td>\n",
              "      <td>155966.02</td>\n",
              "      <td>245131.88</td>\n",
              "      <td>137811.38</td>\n",
              "      <td>0.00</td>\n",
              "      <td>538909.28</td>\n",
              "      <td>538909.28</td>\n",
              "      <td>2011</td>\n",
              "    </tr>\n",
              "    <tr>\n",
              "      <th>2</th>\n",
              "      <td>3</td>\n",
              "      <td>ALBERT PARDINI</td>\n",
              "      <td>CAPTAIN III (POLICE DEPARTMENT)</td>\n",
              "      <td>212739.13</td>\n",
              "      <td>106088.18</td>\n",
              "      <td>16452.60</td>\n",
              "      <td>0.00</td>\n",
              "      <td>335279.91</td>\n",
              "      <td>335279.91</td>\n",
              "      <td>2011</td>\n",
              "    </tr>\n",
              "    <tr>\n",
              "      <th>3</th>\n",
              "      <td>4</td>\n",
              "      <td>CHRISTOPHER CHONG</td>\n",
              "      <td>WIRE ROPE CABLE MAINTENANCE MECHANIC</td>\n",
              "      <td>77916.00</td>\n",
              "      <td>56120.71</td>\n",
              "      <td>198306.90</td>\n",
              "      <td>0.00</td>\n",
              "      <td>332343.61</td>\n",
              "      <td>332343.61</td>\n",
              "      <td>2011</td>\n",
              "    </tr>\n",
              "    <tr>\n",
              "      <th>4</th>\n",
              "      <td>5</td>\n",
              "      <td>PATRICK GARDNER</td>\n",
              "      <td>DEPUTY CHIEF OF DEPARTMENT,(FIRE DEPARTMENT)</td>\n",
              "      <td>134401.60</td>\n",
              "      <td>9737.00</td>\n",
              "      <td>182234.59</td>\n",
              "      <td>0.00</td>\n",
              "      <td>326373.19</td>\n",
              "      <td>326373.19</td>\n",
              "      <td>2011</td>\n",
              "    </tr>\n",
              "    <tr>\n",
              "      <th>...</th>\n",
              "      <td>...</td>\n",
              "      <td>...</td>\n",
              "      <td>...</td>\n",
              "      <td>...</td>\n",
              "      <td>...</td>\n",
              "      <td>...</td>\n",
              "      <td>...</td>\n",
              "      <td>...</td>\n",
              "      <td>...</td>\n",
              "      <td>...</td>\n",
              "    </tr>\n",
              "    <tr>\n",
              "      <th>110617</th>\n",
              "      <td>110618</td>\n",
              "      <td>JAY K DOWKE</td>\n",
              "      <td>POLICE OFFICER 3</td>\n",
              "      <td>100148.75</td>\n",
              "      <td>15716.42</td>\n",
              "      <td>152037.57</td>\n",
              "      <td>33847.07</td>\n",
              "      <td>267902.74</td>\n",
              "      <td>301749.81</td>\n",
              "      <td>2014</td>\n",
              "    </tr>\n",
              "    <tr>\n",
              "      <th>110618</th>\n",
              "      <td>110619</td>\n",
              "      <td>EDWARD Y CHU</td>\n",
              "      <td>LIEUTENANT, FIRE SUPPRESSION</td>\n",
              "      <td>129817.24</td>\n",
              "      <td>108123.01</td>\n",
              "      <td>16979.29</td>\n",
              "      <td>46748.39</td>\n",
              "      <td>254919.54</td>\n",
              "      <td>301667.93</td>\n",
              "      <td>2014</td>\n",
              "    </tr>\n",
              "    <tr>\n",
              "      <th>110619</th>\n",
              "      <td>110620</td>\n",
              "      <td>MATTHEW J MCNAUGHTON</td>\n",
              "      <td>ASST CHF OF DEPT (FIRE DEPT)</td>\n",
              "      <td>205480.80</td>\n",
              "      <td>0.00</td>\n",
              "      <td>29794.80</td>\n",
              "      <td>65881.22</td>\n",
              "      <td>235275.60</td>\n",
              "      <td>301156.82</td>\n",
              "      <td>2014</td>\n",
              "    </tr>\n",
              "    <tr>\n",
              "      <th>110620</th>\n",
              "      <td>110621</td>\n",
              "      <td>MADONNA P VALENCIA</td>\n",
              "      <td>MANAGER, DEPT PUBLIC HEALTH</td>\n",
              "      <td>201305.83</td>\n",
              "      <td>0.00</td>\n",
              "      <td>37292.77</td>\n",
              "      <td>62477.06</td>\n",
              "      <td>238598.60</td>\n",
              "      <td>301075.66</td>\n",
              "      <td>2014</td>\n",
              "    </tr>\n",
              "    <tr>\n",
              "      <th>110621</th>\n",
              "      <td>110622</td>\n",
              "      <td>ROSS B MIRKARIMI</td>\n",
              "      <td>SHERIFF (SFERS)</td>\n",
              "      <td>215629.23</td>\n",
              "      <td>0.00</td>\n",
              "      <td>12937.66</td>\n",
              "      <td>71962.27</td>\n",
              "      <td>228566.89</td>\n",
              "      <td>300529.16</td>\n",
              "      <td>2014</td>\n",
              "    </tr>\n",
              "  </tbody>\n",
              "</table>\n",
              "<p>289 rows × 10 columns</p>\n",
              "</div>"
            ],
            "text/plain": [
              "            Id          EmployeeName  ... TotalPayBenefits  Year\n",
              "0            1        NATHANIEL FORD  ...        567595.43  2011\n",
              "1            2          GARY JIMENEZ  ...        538909.28  2011\n",
              "2            3        ALBERT PARDINI  ...        335279.91  2011\n",
              "3            4     CHRISTOPHER CHONG  ...        332343.61  2011\n",
              "4            5       PATRICK GARDNER  ...        326373.19  2011\n",
              "...        ...                   ...  ...              ...   ...\n",
              "110617  110618           JAY K DOWKE  ...        301749.81  2014\n",
              "110618  110619          EDWARD Y CHU  ...        301667.93  2014\n",
              "110619  110620  MATTHEW J MCNAUGHTON  ...        301156.82  2014\n",
              "110620  110621    MADONNA P VALENCIA  ...        301075.66  2014\n",
              "110621  110622      ROSS B MIRKARIMI  ...        300529.16  2014\n",
              "\n",
              "[289 rows x 10 columns]"
            ]
          },
          "metadata": {
            "tags": []
          },
          "execution_count": 44
        }
      ]
    },
    {
      "cell_type": "code",
      "metadata": {
        "id": "Qc4DYmaNPm2Y",
        "colab_type": "code",
        "colab": {}
      },
      "source": [
        "def split_income_type(n):\n",
        "    if n < 1000:\n",
        "        return 'Retired'\n",
        "    elif n < 50000:\n",
        "        return 'Low Income'\n",
        "    elif n < 150000:\n",
        "        return 'Midrange'\n",
        "    elif n < 250000:\n",
        "        return 'High Income'\n",
        "    else:\n",
        "        return 'Millionaire'"
      ],
      "execution_count": 0,
      "outputs": []
    },
    {
      "cell_type": "code",
      "metadata": {
        "id": "ndS0LG9_tX0Y",
        "colab_type": "code",
        "outputId": "df1e179f-eb66-4394-c574-a7692861a8cc",
        "colab": {
          "base_uri": "https://localhost:8080/",
          "height": 254
        }
      },
      "source": [
        "# Apply the function above to create a new column name IncomeType from TotalPayBenefits\n",
        "sal['IncomeType'] = sal['TotalPayBenefits'].apply(split_income_type)\n",
        "sal.head()"
      ],
      "execution_count": 46,
      "outputs": [
        {
          "output_type": "execute_result",
          "data": {
            "text/html": [
              "<div>\n",
              "<style scoped>\n",
              "    .dataframe tbody tr th:only-of-type {\n",
              "        vertical-align: middle;\n",
              "    }\n",
              "\n",
              "    .dataframe tbody tr th {\n",
              "        vertical-align: top;\n",
              "    }\n",
              "\n",
              "    .dataframe thead th {\n",
              "        text-align: right;\n",
              "    }\n",
              "</style>\n",
              "<table border=\"1\" class=\"dataframe\">\n",
              "  <thead>\n",
              "    <tr style=\"text-align: right;\">\n",
              "      <th></th>\n",
              "      <th>Id</th>\n",
              "      <th>EmployeeName</th>\n",
              "      <th>JobTitle</th>\n",
              "      <th>BasePay</th>\n",
              "      <th>OvertimePay</th>\n",
              "      <th>OtherPay</th>\n",
              "      <th>Benefits</th>\n",
              "      <th>TotalPay</th>\n",
              "      <th>TotalPayBenefits</th>\n",
              "      <th>Year</th>\n",
              "      <th>IncomeType</th>\n",
              "    </tr>\n",
              "  </thead>\n",
              "  <tbody>\n",
              "    <tr>\n",
              "      <th>0</th>\n",
              "      <td>1</td>\n",
              "      <td>NATHANIEL FORD</td>\n",
              "      <td>GENERAL MANAGER-METROPOLITAN TRANSIT AUTHORITY</td>\n",
              "      <td>167411.18</td>\n",
              "      <td>0.00</td>\n",
              "      <td>400184.25</td>\n",
              "      <td>0.0</td>\n",
              "      <td>567595.43</td>\n",
              "      <td>567595.43</td>\n",
              "      <td>2011</td>\n",
              "      <td>Millionaire</td>\n",
              "    </tr>\n",
              "    <tr>\n",
              "      <th>1</th>\n",
              "      <td>2</td>\n",
              "      <td>GARY JIMENEZ</td>\n",
              "      <td>CAPTAIN III (POLICE DEPARTMENT)</td>\n",
              "      <td>155966.02</td>\n",
              "      <td>245131.88</td>\n",
              "      <td>137811.38</td>\n",
              "      <td>0.0</td>\n",
              "      <td>538909.28</td>\n",
              "      <td>538909.28</td>\n",
              "      <td>2011</td>\n",
              "      <td>Millionaire</td>\n",
              "    </tr>\n",
              "    <tr>\n",
              "      <th>2</th>\n",
              "      <td>3</td>\n",
              "      <td>ALBERT PARDINI</td>\n",
              "      <td>CAPTAIN III (POLICE DEPARTMENT)</td>\n",
              "      <td>212739.13</td>\n",
              "      <td>106088.18</td>\n",
              "      <td>16452.60</td>\n",
              "      <td>0.0</td>\n",
              "      <td>335279.91</td>\n",
              "      <td>335279.91</td>\n",
              "      <td>2011</td>\n",
              "      <td>Millionaire</td>\n",
              "    </tr>\n",
              "    <tr>\n",
              "      <th>3</th>\n",
              "      <td>4</td>\n",
              "      <td>CHRISTOPHER CHONG</td>\n",
              "      <td>WIRE ROPE CABLE MAINTENANCE MECHANIC</td>\n",
              "      <td>77916.00</td>\n",
              "      <td>56120.71</td>\n",
              "      <td>198306.90</td>\n",
              "      <td>0.0</td>\n",
              "      <td>332343.61</td>\n",
              "      <td>332343.61</td>\n",
              "      <td>2011</td>\n",
              "      <td>Millionaire</td>\n",
              "    </tr>\n",
              "    <tr>\n",
              "      <th>4</th>\n",
              "      <td>5</td>\n",
              "      <td>PATRICK GARDNER</td>\n",
              "      <td>DEPUTY CHIEF OF DEPARTMENT,(FIRE DEPARTMENT)</td>\n",
              "      <td>134401.60</td>\n",
              "      <td>9737.00</td>\n",
              "      <td>182234.59</td>\n",
              "      <td>0.0</td>\n",
              "      <td>326373.19</td>\n",
              "      <td>326373.19</td>\n",
              "      <td>2011</td>\n",
              "      <td>Millionaire</td>\n",
              "    </tr>\n",
              "  </tbody>\n",
              "</table>\n",
              "</div>"
            ],
            "text/plain": [
              "  Id       EmployeeName  ...  Year   IncomeType\n",
              "0  1     NATHANIEL FORD  ...  2011  Millionaire\n",
              "1  2       GARY JIMENEZ  ...  2011  Millionaire\n",
              "2  3     ALBERT PARDINI  ...  2011  Millionaire\n",
              "3  4  CHRISTOPHER CHONG  ...  2011  Millionaire\n",
              "4  5    PATRICK GARDNER  ...  2011  Millionaire\n",
              "\n",
              "[5 rows x 11 columns]"
            ]
          },
          "metadata": {
            "tags": []
          },
          "execution_count": 46
        }
      ]
    },
    {
      "cell_type": "code",
      "metadata": {
        "id": "Uh8VVB1nPm2a",
        "colab_type": "code",
        "outputId": "8563cb87-65b1-4142-99ac-eb58215ada4c",
        "colab": {
          "base_uri": "https://localhost:8080/",
          "height": 297
        }
      },
      "source": [
        "sns.countplot(sal['IncomeType'])"
      ],
      "execution_count": 47,
      "outputs": [
        {
          "output_type": "execute_result",
          "data": {
            "text/plain": [
              "<matplotlib.axes._subplots.AxesSubplot at 0x7f2676ad49b0>"
            ]
          },
          "metadata": {
            "tags": []
          },
          "execution_count": 47
        },
        {
          "output_type": "display_data",
          "data": {
            "image/png": "[encoded data removed]",
            "text/plain": [
              "<Figure size 432x288 with 1 Axes>"
            ]
          },
          "metadata": {
            "tags": [],
            "needs_background": "light"
          }
        }
      ]
    },
    {
      "cell_type": "code",
      "metadata": {
        "id": "iQtknDUIPm2e",
        "colab_type": "code",
        "outputId": "294de068-e973-4235-bcd4-a01f1a91e2c2",
        "colab": {
          "base_uri": "https://localhost:8080/",
          "height": 369
        }
      },
      "source": [
        "# Pie chart\n",
        "labels = []\n",
        "sizes = []\n",
        "explode = []\n",
        "\n",
        "labels = sal['IncomeType'].value_counts().index\n",
        "for index, size in enumerate(sal['IncomeType'].value_counts()):\n",
        "    sizes.append(size)\n",
        "    if labels[index]=='Millionaire':\n",
        "        explode.append(0.2)\n",
        "    elif labels[index]=='High Income':\n",
        "        explode.append(0.1)\n",
        "    else:\n",
        "        explode.append(0.1)\n",
        " \n",
        "f, ax1 = plt.subplots(figsize=(5,5))\n",
        "ax1.pie(sizes, explode=explode, labels=labels, autopct='%1.1f%%',\n",
        "        shadow=True, startangle=45)\n",
        "# Equal aspect ratio ensures that pie is drawn as a circle\n",
        "ax1.axis('equal')  \n",
        "plt.tight_layout()\n",
        "plt.show()"
      ],
      "execution_count": 48,
      "outputs": [
        {
          "output_type": "display_data",
          "data": {
            "image/png": "[encoded data removed]",
            "text/plain": [
              "<Figure size 360x360 with 1 Axes>"
            ]
          },
          "metadata": {
            "tags": []
          }
        }
      ]
    },
    {
      "cell_type": "code",
      "metadata": {
        "id": "pbAUA-kgPm20",
        "colab_type": "code",
        "outputId": "4b563bbe-0311-45b5-abad-ded5b5a45ac3",
        "colab": {
          "base_uri": "https://localhost:8080/",
          "height": 283
        }
      },
      "source": [
        "# What is the top 10 Job Title of Millionaire\n",
        "millionare_jobs = sal[sal['IncomeType'] == 'Millionaire'].groupby('JobTitle').mean()\n",
        "millionare_jobs.sort_values(by=['TotalPayBenefits'], ascending=False)['TotalPayBenefits'].head(10).plot(kind='barh')"
      ],
      "execution_count": 49,
      "outputs": [
        {
          "output_type": "execute_result",
          "data": {
            "text/plain": [
              "<matplotlib.axes._subplots.AxesSubplot at 0x7f26768b8358>"
            ]
          },
          "metadata": {
            "tags": []
          },
          "execution_count": 49
        },
        {
          "output_type": "display_data",
          "data": {
            "image/png": "[encoded data removed]",
            "text/plain": [
              "<Figure size 432x288 with 1 Axes>"
            ]
          },
          "metadata": {
            "tags": [],
            "needs_background": "light"
          }
        }
      ]
    },
    {
      "cell_type": "code",
      "metadata": {
        "id": "5LNMS8DGPm22",
        "colab_type": "code",
        "outputId": "4365bcec-45cd-4bd7-fa90-db7f708ce8d4",
        "colab": {
          "base_uri": "https://localhost:8080/",
          "height": 208
        }
      },
      "source": [
        "# Find the name of 10 richest men\n",
        "richest_men = sal.sort_values(by='TotalPayBenefits', ascending=False).head(10)[['EmployeeName', 'JobTitle']].values\n",
        "richest_men"
      ],
      "execution_count": 52,
      "outputs": [
        {
          "output_type": "execute_result",
          "data": {
            "text/plain": [
              "array([['NATHANIEL FORD',\n",
              "        'GENERAL MANAGER-METROPOLITAN TRANSIT AUTHORITY'],\n",
              "       ['GARY JIMENEZ', 'CAPTAIN III (POLICE DEPARTMENT)'],\n",
              "       ['DAVID SHINN', 'DEPUTY CHIEF 3'],\n",
              "       ['AMY P HART', 'ASST MED EXAMINER'],\n",
              "       ['WILLIAM J COAKER JR.', 'CHIEF INVESTMENT OFFICER'],\n",
              "       ['GREGORY P SUHR', 'CHIEF OF POLICE'],\n",
              "       ['JOANNE M HAYES-WHITE', 'CHIEF, FIRE DEPARTMENT'],\n",
              "       ['GREGORY P SUHR', 'CHIEF OF POLICE'],\n",
              "       ['JOANNE M HAYES-WHITE', 'CHIEF, FIRE DEPARTMENT'],\n",
              "       ['ELLEN G MOFFATT', 'ASST MED EXAMINER']], dtype=object)"
            ]
          },
          "metadata": {
            "tags": []
          },
          "execution_count": 52
        }
      ]
    },
    {
      "cell_type": "code",
      "metadata": {
        "id": "TDMwfQIfPm2-",
        "colab_type": "code",
        "outputId": "15f5d373-6c2e-4f7b-e85e-653fb70733fe",
        "colab": {
          "base_uri": "https://localhost:8080/",
          "height": 297
        }
      },
      "source": [
        "# Analyze TotalPayBenefits of 10 richest man each Year\n",
        "rich_data = sal[sal['EmployeeName'].isin(richest_men[:, 0]) & sal['JobTitle'].isin(richest_men[:, 1])]\n",
        "sns.barplot(y='EmployeeName', x='TotalPayBenefits', hue='Year', data=rich_data)"
      ],
      "execution_count": 54,
      "outputs": [
        {
          "output_type": "execute_result",
          "data": {
            "text/plain": [
              "<matplotlib.axes._subplots.AxesSubplot at 0x7f2672973668>"
            ]
          },
          "metadata": {
            "tags": []
          },
          "execution_count": 54
        },
        {
          "output_type": "display_data",
          "data": {
            "image/png": "[encoded data removed]",
            "text/plain": [
              "<Figure size 432x288 with 1 Axes>"
            ]
          },
          "metadata": {
            "tags": [],
            "needs_background": "light"
          }
        }
      ]
    },
    {
      "cell_type": "markdown",
      "metadata": {
        "id": "MoBgPjDiwhdV",
        "colab_type": "text"
      },
      "source": [
        "### You are awesome!!"
      ]
    }
  ]
}